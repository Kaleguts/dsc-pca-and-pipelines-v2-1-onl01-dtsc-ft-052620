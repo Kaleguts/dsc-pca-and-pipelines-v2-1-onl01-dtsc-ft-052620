{
 "cells": [
  {
   "cell_type": "markdown",
   "metadata": {},
   "source": [
    "# Integrating PCA in Pipelines - Lab"
   ]
  },
  {
   "cell_type": "markdown",
   "metadata": {},
   "source": [
    "## Introduction"
   ]
  },
  {
   "cell_type": "markdown",
   "metadata": {},
   "source": [
    "In a previous section, you learned about how to use pipelines in scikit-learn to combine several supervised learning algorithms in a manageable pipeline. In this lesson, you will integrate PCA along with classifiers in the pipeline. "
   ]
  },
  {
   "cell_type": "markdown",
   "metadata": {},
   "source": [
    "## Objectives\n",
    "\n",
    "In this lab you will: \n",
    "\n",
    "- Integrate PCA in scikit-learn pipelines "
   ]
  },
  {
   "cell_type": "markdown",
   "metadata": {},
   "source": [
    "## The Data Science Workflow"
   ]
  },
  {
   "cell_type": "markdown",
   "metadata": {},
   "source": [
    "You will be following the data science workflow:\n",
    "\n",
    "1. Initial data inspection, exploratory data analysis, and cleaning\n",
    "2. Feature engineering and selection\n",
    "3. Create a baseline model\n",
    "4. Create a machine learning pipeline and compare results with the baseline model\n",
    "5. Interpret the model and draw conclusions"
   ]
  },
  {
   "cell_type": "markdown",
   "metadata": {},
   "source": [
    "##  Initial data inspection, exploratory data analysis, and cleaning"
   ]
  },
  {
   "cell_type": "markdown",
   "metadata": {},
   "source": [
    "You'll use a dataset created by the Otto group, which was also used in a [Kaggle competition](https://www.kaggle.com/c/otto-group-product-classification-challenge/data). The description of the dataset is as follows:\n",
    "\n",
    "The Otto Group is one of the world’s biggest e-commerce companies, with subsidiaries in more than 20 countries, including Crate & Barrel (USA), Otto.de (Germany) and 3 Suisses (France). They are selling millions of products worldwide every day, with several thousand products being added to their product line.\n",
    "\n",
    "A consistent analysis of the performance of their products is crucial. However, due to their global infrastructure, many identical products get classified differently. Therefore, the quality of product analysis depends heavily on the ability to accurately cluster similar products. The better the classification, the more insights the Otto Group can generate about their product range.\n",
    "\n",
    "In this lab, you'll use a dataset containing:\n",
    "- A column `id`, which is an anonymous id unique to a product\n",
    "- 93 columns `feat_1`, `feat_2`, ..., `feat_93`, which are the various features of a product\n",
    "- a column `target` - the class of a product\n",
    "\n",
    "\n",
    "\n",
    "The dataset is stored in the `'otto_group.csv'` file. Import this file into a DataFrame called `data`, and then: \n",
    "\n",
    "- Check for missing values \n",
    "- Check the distribution of columns \n",
    "- ... and any other things that come to your mind to explore the data "
   ]
  },
  {
   "cell_type": "code",
   "execution_count": 46,
   "metadata": {},
   "outputs": [],
   "source": [
    "# Your code here\n",
    "import pandas as pd\n",
    "import numpy as np\n",
    "import matplotlib.pyplot as plt\n",
    "%matplotlib inline"
   ]
  },
  {
   "cell_type": "code",
   "execution_count": 47,
   "metadata": {},
   "outputs": [
    {
     "data": {
      "text/html": [
       "<div>\n",
       "<style scoped>\n",
       "    .dataframe tbody tr th:only-of-type {\n",
       "        vertical-align: middle;\n",
       "    }\n",
       "\n",
       "    .dataframe tbody tr th {\n",
       "        vertical-align: top;\n",
       "    }\n",
       "\n",
       "    .dataframe thead th {\n",
       "        text-align: right;\n",
       "    }\n",
       "</style>\n",
       "<table border=\"1\" class=\"dataframe\">\n",
       "  <thead>\n",
       "    <tr style=\"text-align: right;\">\n",
       "      <th></th>\n",
       "      <th>id</th>\n",
       "      <th>feat_1</th>\n",
       "      <th>feat_2</th>\n",
       "      <th>feat_3</th>\n",
       "      <th>feat_4</th>\n",
       "      <th>feat_5</th>\n",
       "      <th>feat_6</th>\n",
       "      <th>feat_7</th>\n",
       "      <th>feat_8</th>\n",
       "      <th>feat_9</th>\n",
       "      <th>...</th>\n",
       "      <th>feat_85</th>\n",
       "      <th>feat_86</th>\n",
       "      <th>feat_87</th>\n",
       "      <th>feat_88</th>\n",
       "      <th>feat_89</th>\n",
       "      <th>feat_90</th>\n",
       "      <th>feat_91</th>\n",
       "      <th>feat_92</th>\n",
       "      <th>feat_93</th>\n",
       "      <th>target</th>\n",
       "    </tr>\n",
       "  </thead>\n",
       "  <tbody>\n",
       "    <tr>\n",
       "      <th>0</th>\n",
       "      <td>1</td>\n",
       "      <td>1</td>\n",
       "      <td>0</td>\n",
       "      <td>0</td>\n",
       "      <td>0</td>\n",
       "      <td>0</td>\n",
       "      <td>0</td>\n",
       "      <td>0</td>\n",
       "      <td>0</td>\n",
       "      <td>0</td>\n",
       "      <td>...</td>\n",
       "      <td>1</td>\n",
       "      <td>0</td>\n",
       "      <td>0</td>\n",
       "      <td>0</td>\n",
       "      <td>0</td>\n",
       "      <td>0</td>\n",
       "      <td>0</td>\n",
       "      <td>0</td>\n",
       "      <td>0</td>\n",
       "      <td>Class_1</td>\n",
       "    </tr>\n",
       "    <tr>\n",
       "      <th>1</th>\n",
       "      <td>2</td>\n",
       "      <td>0</td>\n",
       "      <td>0</td>\n",
       "      <td>0</td>\n",
       "      <td>0</td>\n",
       "      <td>0</td>\n",
       "      <td>0</td>\n",
       "      <td>0</td>\n",
       "      <td>1</td>\n",
       "      <td>0</td>\n",
       "      <td>...</td>\n",
       "      <td>0</td>\n",
       "      <td>0</td>\n",
       "      <td>0</td>\n",
       "      <td>0</td>\n",
       "      <td>0</td>\n",
       "      <td>0</td>\n",
       "      <td>0</td>\n",
       "      <td>0</td>\n",
       "      <td>0</td>\n",
       "      <td>Class_1</td>\n",
       "    </tr>\n",
       "    <tr>\n",
       "      <th>2</th>\n",
       "      <td>3</td>\n",
       "      <td>0</td>\n",
       "      <td>0</td>\n",
       "      <td>0</td>\n",
       "      <td>0</td>\n",
       "      <td>0</td>\n",
       "      <td>0</td>\n",
       "      <td>0</td>\n",
       "      <td>1</td>\n",
       "      <td>0</td>\n",
       "      <td>...</td>\n",
       "      <td>0</td>\n",
       "      <td>0</td>\n",
       "      <td>0</td>\n",
       "      <td>0</td>\n",
       "      <td>0</td>\n",
       "      <td>0</td>\n",
       "      <td>0</td>\n",
       "      <td>0</td>\n",
       "      <td>0</td>\n",
       "      <td>Class_1</td>\n",
       "    </tr>\n",
       "    <tr>\n",
       "      <th>3</th>\n",
       "      <td>4</td>\n",
       "      <td>1</td>\n",
       "      <td>0</td>\n",
       "      <td>0</td>\n",
       "      <td>1</td>\n",
       "      <td>6</td>\n",
       "      <td>1</td>\n",
       "      <td>5</td>\n",
       "      <td>0</td>\n",
       "      <td>0</td>\n",
       "      <td>...</td>\n",
       "      <td>0</td>\n",
       "      <td>1</td>\n",
       "      <td>2</td>\n",
       "      <td>0</td>\n",
       "      <td>0</td>\n",
       "      <td>0</td>\n",
       "      <td>0</td>\n",
       "      <td>0</td>\n",
       "      <td>0</td>\n",
       "      <td>Class_1</td>\n",
       "    </tr>\n",
       "    <tr>\n",
       "      <th>4</th>\n",
       "      <td>5</td>\n",
       "      <td>0</td>\n",
       "      <td>0</td>\n",
       "      <td>0</td>\n",
       "      <td>0</td>\n",
       "      <td>0</td>\n",
       "      <td>0</td>\n",
       "      <td>0</td>\n",
       "      <td>0</td>\n",
       "      <td>0</td>\n",
       "      <td>...</td>\n",
       "      <td>1</td>\n",
       "      <td>0</td>\n",
       "      <td>0</td>\n",
       "      <td>0</td>\n",
       "      <td>0</td>\n",
       "      <td>1</td>\n",
       "      <td>0</td>\n",
       "      <td>0</td>\n",
       "      <td>0</td>\n",
       "      <td>Class_1</td>\n",
       "    </tr>\n",
       "  </tbody>\n",
       "</table>\n",
       "<p>5 rows × 95 columns</p>\n",
       "</div>"
      ],
      "text/plain": [
       "   id  feat_1  feat_2  feat_3  feat_4  feat_5  feat_6  feat_7  feat_8  feat_9  \\\n",
       "0   1       1       0       0       0       0       0       0       0       0   \n",
       "1   2       0       0       0       0       0       0       0       1       0   \n",
       "2   3       0       0       0       0       0       0       0       1       0   \n",
       "3   4       1       0       0       1       6       1       5       0       0   \n",
       "4   5       0       0       0       0       0       0       0       0       0   \n",
       "\n",
       "   ...  feat_85  feat_86  feat_87  feat_88  feat_89  feat_90  feat_91  \\\n",
       "0  ...        1        0        0        0        0        0        0   \n",
       "1  ...        0        0        0        0        0        0        0   \n",
       "2  ...        0        0        0        0        0        0        0   \n",
       "3  ...        0        1        2        0        0        0        0   \n",
       "4  ...        1        0        0        0        0        1        0   \n",
       "\n",
       "   feat_92  feat_93   target  \n",
       "0        0        0  Class_1  \n",
       "1        0        0  Class_1  \n",
       "2        0        0  Class_1  \n",
       "3        0        0  Class_1  \n",
       "4        0        0  Class_1  \n",
       "\n",
       "[5 rows x 95 columns]"
      ]
     },
     "execution_count": 47,
     "metadata": {},
     "output_type": "execute_result"
    }
   ],
   "source": [
    "# Your code here\n",
    "df=pd.read_csv('otto_group.csv')\n",
    "df.head()"
   ]
  },
  {
   "cell_type": "code",
   "execution_count": 48,
   "metadata": {},
   "outputs": [
    {
     "name": "stdout",
     "output_type": "stream",
     "text": [
      "<class 'pandas.core.frame.DataFrame'>\n",
      "RangeIndex: 61878 entries, 0 to 61877\n",
      "Data columns (total 95 columns):\n",
      " #   Column   Non-Null Count  Dtype \n",
      "---  ------   --------------  ----- \n",
      " 0   id       61878 non-null  int64 \n",
      " 1   feat_1   61878 non-null  int64 \n",
      " 2   feat_2   61878 non-null  int64 \n",
      " 3   feat_3   61878 non-null  int64 \n",
      " 4   feat_4   61878 non-null  int64 \n",
      " 5   feat_5   61878 non-null  int64 \n",
      " 6   feat_6   61878 non-null  int64 \n",
      " 7   feat_7   61878 non-null  int64 \n",
      " 8   feat_8   61878 non-null  int64 \n",
      " 9   feat_9   61878 non-null  int64 \n",
      " 10  feat_10  61878 non-null  int64 \n",
      " 11  feat_11  61878 non-null  int64 \n",
      " 12  feat_12  61878 non-null  int64 \n",
      " 13  feat_13  61878 non-null  int64 \n",
      " 14  feat_14  61878 non-null  int64 \n",
      " 15  feat_15  61878 non-null  int64 \n",
      " 16  feat_16  61878 non-null  int64 \n",
      " 17  feat_17  61878 non-null  int64 \n",
      " 18  feat_18  61878 non-null  int64 \n",
      " 19  feat_19  61878 non-null  int64 \n",
      " 20  feat_20  61878 non-null  int64 \n",
      " 21  feat_21  61878 non-null  int64 \n",
      " 22  feat_22  61878 non-null  int64 \n",
      " 23  feat_23  61878 non-null  int64 \n",
      " 24  feat_24  61878 non-null  int64 \n",
      " 25  feat_25  61878 non-null  int64 \n",
      " 26  feat_26  61878 non-null  int64 \n",
      " 27  feat_27  61878 non-null  int64 \n",
      " 28  feat_28  61878 non-null  int64 \n",
      " 29  feat_29  61878 non-null  int64 \n",
      " 30  feat_30  61878 non-null  int64 \n",
      " 31  feat_31  61878 non-null  int64 \n",
      " 32  feat_32  61878 non-null  int64 \n",
      " 33  feat_33  61878 non-null  int64 \n",
      " 34  feat_34  61878 non-null  int64 \n",
      " 35  feat_35  61878 non-null  int64 \n",
      " 36  feat_36  61878 non-null  int64 \n",
      " 37  feat_37  61878 non-null  int64 \n",
      " 38  feat_38  61878 non-null  int64 \n",
      " 39  feat_39  61878 non-null  int64 \n",
      " 40  feat_40  61878 non-null  int64 \n",
      " 41  feat_41  61878 non-null  int64 \n",
      " 42  feat_42  61878 non-null  int64 \n",
      " 43  feat_43  61878 non-null  int64 \n",
      " 44  feat_44  61878 non-null  int64 \n",
      " 45  feat_45  61878 non-null  int64 \n",
      " 46  feat_46  61878 non-null  int64 \n",
      " 47  feat_47  61878 non-null  int64 \n",
      " 48  feat_48  61878 non-null  int64 \n",
      " 49  feat_49  61878 non-null  int64 \n",
      " 50  feat_50  61878 non-null  int64 \n",
      " 51  feat_51  61878 non-null  int64 \n",
      " 52  feat_52  61878 non-null  int64 \n",
      " 53  feat_53  61878 non-null  int64 \n",
      " 54  feat_54  61878 non-null  int64 \n",
      " 55  feat_55  61878 non-null  int64 \n",
      " 56  feat_56  61878 non-null  int64 \n",
      " 57  feat_57  61878 non-null  int64 \n",
      " 58  feat_58  61878 non-null  int64 \n",
      " 59  feat_59  61878 non-null  int64 \n",
      " 60  feat_60  61878 non-null  int64 \n",
      " 61  feat_61  61878 non-null  int64 \n",
      " 62  feat_62  61878 non-null  int64 \n",
      " 63  feat_63  61878 non-null  int64 \n",
      " 64  feat_64  61878 non-null  int64 \n",
      " 65  feat_65  61878 non-null  int64 \n",
      " 66  feat_66  61878 non-null  int64 \n",
      " 67  feat_67  61878 non-null  int64 \n",
      " 68  feat_68  61878 non-null  int64 \n",
      " 69  feat_69  61878 non-null  int64 \n",
      " 70  feat_70  61878 non-null  int64 \n",
      " 71  feat_71  61878 non-null  int64 \n",
      " 72  feat_72  61878 non-null  int64 \n",
      " 73  feat_73  61878 non-null  int64 \n",
      " 74  feat_74  61878 non-null  int64 \n",
      " 75  feat_75  61878 non-null  int64 \n",
      " 76  feat_76  61878 non-null  int64 \n",
      " 77  feat_77  61878 non-null  int64 \n",
      " 78  feat_78  61878 non-null  int64 \n",
      " 79  feat_79  61878 non-null  int64 \n",
      " 80  feat_80  61878 non-null  int64 \n",
      " 81  feat_81  61878 non-null  int64 \n",
      " 82  feat_82  61878 non-null  int64 \n",
      " 83  feat_83  61878 non-null  int64 \n",
      " 84  feat_84  61878 non-null  int64 \n",
      " 85  feat_85  61878 non-null  int64 \n",
      " 86  feat_86  61878 non-null  int64 \n",
      " 87  feat_87  61878 non-null  int64 \n",
      " 88  feat_88  61878 non-null  int64 \n",
      " 89  feat_89  61878 non-null  int64 \n",
      " 90  feat_90  61878 non-null  int64 \n",
      " 91  feat_91  61878 non-null  int64 \n",
      " 92  feat_92  61878 non-null  int64 \n",
      " 93  feat_93  61878 non-null  int64 \n",
      " 94  target   61878 non-null  object\n",
      "dtypes: int64(94), object(1)\n",
      "memory usage: 44.8+ MB\n"
     ]
    }
   ],
   "source": [
    "# Your code here\n",
    "df.info()"
   ]
  },
  {
   "cell_type": "code",
   "execution_count": 49,
   "metadata": {},
   "outputs": [
    {
     "data": {
      "text/plain": [
       "id         False\n",
       "feat_1     False\n",
       "feat_2     False\n",
       "feat_3     False\n",
       "feat_4     False\n",
       "           ...  \n",
       "feat_90    False\n",
       "feat_91    False\n",
       "feat_92    False\n",
       "feat_93    False\n",
       "target     False\n",
       "Length: 95, dtype: bool"
      ]
     },
     "execution_count": 49,
     "metadata": {},
     "output_type": "execute_result"
    }
   ],
   "source": [
    "# Your code here\n",
    "df.isna().any()"
   ]
  },
  {
   "cell_type": "code",
   "execution_count": 50,
   "metadata": {
    "scrolled": false
   },
   "outputs": [
    {
     "data": {
      "image/png": "[encoded data removed]",
      "text/plain": [
       "<Figure size 2160x1440 with 30 Axes>"
      ]
     },
     "metadata": {
      "needs_background": "light"
     },
     "output_type": "display_data"
    }
   ],
   "source": [
    "# Your code here\n",
    "feat = df.loc[:, 'feat_1':'feat_30']\n",
    "feat.hist(figsize=(30,20));"
   ]
  },
  {
   "cell_type": "code",
   "execution_count": 51,
   "metadata": {},
   "outputs": [
    {
     "data": {
      "text/plain": [
       "<matplotlib.axes._subplots.AxesSubplot at 0x1f5e46a9c88>"
      ]
     },
     "execution_count": 51,
     "metadata": {},
     "output_type": "execute_result"
    },
    {
     "data": {
      "image/png": "[encoded data removed]",
      "text/plain": [
       "<Figure size 720x720 with 1 Axes>"
      ]
     },
     "metadata": {
      "needs_background": "light"
     },
     "output_type": "display_data"
    }
   ],
   "source": [
    "# Your code here\n",
    "feat.boxplot(figsize=(10,10))"
   ]
  },
  {
   "cell_type": "markdown",
   "metadata": {},
   "source": [
    "If you look at all the histograms, you can tell that a lot of the data are zero-inflated, so most of the variables contain mostly zeros and then some higher values here and there. No normality, but for most machine learning techniques this is not an issue. "
   ]
  },
  {
   "cell_type": "markdown",
   "metadata": {},
   "source": [
    "Because there are so many zeroes, most values above zero will seem to be outliers. The safe decision for this data is to not delete any outliers and see what happens. With many 0s, sparse data is available and high values may be super informative. Moreover, without having any intuitive meaning for each of the features, we don't know if a value of ~260 is actually an outlier."
   ]
  },
  {
   "cell_type": "markdown",
   "metadata": {},
   "source": [
    "## Feature engineering and selection with PCA"
   ]
  },
  {
   "cell_type": "markdown",
   "metadata": {},
   "source": [
    "Have a look at the correlation structure of your features using a [heatmap](https://seaborn.pydata.org/generated/seaborn.heatmap.html)."
   ]
  },
  {
   "cell_type": "code",
   "execution_count": 52,
   "metadata": {
    "scrolled": false
   },
   "outputs": [
    {
     "data": {
      "image/png": "[encoded data removed]",
      "text/plain": [
       "<Figure size 432x288 with 2 Axes>"
      ]
     },
     "metadata": {
      "needs_background": "light"
     },
     "output_type": "display_data"
    }
   ],
   "source": [
    "feat = df.loc[:, 'feat_1':'feat_93']\n",
    "\n",
    "import seaborn as sns\n",
    "sns.heatmap(feat.corr(), center=0);"
   ]
  },
  {
   "cell_type": "markdown",
   "metadata": {},
   "source": [
    "Use PCA to select a number of features in a way that you still keep 80% of your explained variance."
   ]
  },
  {
   "cell_type": "code",
   "execution_count": 18,
   "metadata": {},
   "outputs": [
    {
     "name": "stdout",
     "output_type": "stream",
     "text": [
      "0.7275765007639028\n",
      "0.8885947092658052\n",
      "0.9598433404645416\n",
      "0.8004620589333761\n"
     ]
    }
   ],
   "source": [
    "from sklearn.decomposition import PCA\n",
    "pca_1 = PCA(n_components=20)\n",
    "pca_2 = PCA(n_components=40)\n",
    "pca_3 = PCA(n_components=60)\n",
    "\n",
    "principalComponents = pca_1.fit_transform(feat)\n",
    "principalComponents = pca_2.fit_transform(feat)\n",
    "principalComponents = pca_3.fit_transform(feat)\n",
    "\n",
    "print(np.sum(pca_1.explained_variance_ratio_))\n",
    "print(np.sum(pca_2.explained_variance_ratio_))\n",
    "print(np.sum(pca_3.explained_variance_ratio_))\n",
    "\n",
    "pca = PCA(n_components=27)\n",
    "principalComponents = pca.fit_transform(feat)\n",
    "print(np.sum(pca.explained_variance_ratio_))"
   ]
  },
  {
   "cell_type": "code",
   "execution_count": 19,
   "metadata": {},
   "outputs": [
    {
     "data": {
      "text/plain": [
       "<matplotlib.axes._subplots.AxesSubplot at 0x1f5eb497188>"
      ]
     },
     "execution_count": 19,
     "metadata": {},
     "output_type": "execute_result"
    },
    {
     "data": {
      "image/png": "[encoded data removed]",
      "text/plain": [
       "<Figure size 432x288 with 2 Axes>"
      ]
     },
     "metadata": {
      "needs_background": "light"
     },
     "output_type": "display_data"
    }
   ],
   "source": [
    "import seaborn as sns\n",
    "sns.heatmap(pd.DataFrame(principalComponents).corr(), center=0)"
   ]
  },
  {
   "cell_type": "markdown",
   "metadata": {},
   "source": [
    "## Create a train-test split with a test size of 40%\n"
   ]
  },
  {
   "cell_type": "markdown",
   "metadata": {},
   "source": [
    "This is a relatively big training set, so you can assign 40% to the test set. Set the random_state to 42."
   ]
  },
  {
   "cell_type": "code",
   "execution_count": 20,
   "metadata": {},
   "outputs": [],
   "source": [
    "# Your code here\n",
    "y = df['target']\n",
    "X = df.loc[:,'feat_1' : 'feat_93']"
   ]
  },
  {
   "cell_type": "code",
   "execution_count": 21,
   "metadata": {},
   "outputs": [],
   "source": [
    "# Your code here\n",
    "from sklearn.model_selection import train_test_split\n",
    "X_train, X_test, y_train, y_test = train_test_split(X,y,test_size=0.4, random_state=42)"
   ]
  },
  {
   "cell_type": "markdown",
   "metadata": {},
   "source": [
    "## Create a baseline model"
   ]
  },
  {
   "cell_type": "markdown",
   "metadata": {},
   "source": [
    "Create your baseline model *in a pipeline setting*. In the pipeline: \n",
    "\n",
    "- Your first step will be to scale your features down to the number of features that ensure you keep just 80% of your explained variance (which we saw before)\n",
    "- Your second step will be to build a basic logistic regression model \n",
    "\n",
    "Make sure to fit the model using the training set and test the result by obtaining the accuracy using the test set. Set the `random_state` to 123. "
   ]
  },
  {
   "cell_type": "code",
   "execution_count": 22,
   "metadata": {},
   "outputs": [],
   "source": [
    "# Your code here\n",
    "from sklearn.linear_model import LogisticRegression\n",
    "from sklearn.pipeline import Pipeline"
   ]
  },
  {
   "cell_type": "code",
   "execution_count": 23,
   "metadata": {},
   "outputs": [
    {
     "name": "stdout",
     "output_type": "stream",
     "text": [
      "0.7279411764705882\n"
     ]
    },
    {
     "name": "stderr",
     "output_type": "stream",
     "text": [
      "C:\\Users\\celgu\\anaconda3\\lib\\site-packages\\sklearn\\linear_model\\_logistic.py:940: ConvergenceWarning: lbfgs failed to converge (status=1):\n",
      "STOP: TOTAL NO. of ITERATIONS REACHED LIMIT.\n",
      "\n",
      "Increase the number of iterations (max_iter) or scale the data as shown in:\n",
      "    https://scikit-learn.org/stable/modules/preprocessing.html\n",
      "Please also refer to the documentation for alternative solver options:\n",
      "    https://scikit-learn.org/stable/modules/linear_model.html#logistic-regression\n",
      "  extra_warning_msg=_LOGISTIC_SOLVER_CONVERGENCE_MSG)\n"
     ]
    }
   ],
   "source": [
    "# Your code here\n",
    "pipe_lr = Pipeline ([('pca', PCA(n_components = 27, random_state = 123)),\n",
    "                     ('clf', LogisticRegression(random_state = 123))])\n",
    "\n",
    "# Fit the pipelines to the data\n",
    "pipe_lr.fit(X_train, y_train)\n",
    "\n",
    "print(pipe_lr.score(X_test, y_test))"
   ]
  },
  {
   "cell_type": "code",
   "execution_count": 26,
   "metadata": {},
   "outputs": [
    {
     "data": {
      "text/plain": [
       "0.7279411764705882"
      ]
     },
     "execution_count": 26,
     "metadata": {},
     "output_type": "execute_result"
    }
   ],
   "source": [
    "# Your code here\n",
    "np.sum(pipe_lr.predict(X_test) == y_test)/len(y_test)"
   ]
  },
  {
   "cell_type": "markdown",
   "metadata": {},
   "source": [
    "## Create a pipeline consisting of a linear SVM, a simple decision tree, and a simple random forest classifier"
   ]
  },
  {
   "cell_type": "markdown",
   "metadata": {},
   "source": [
    "Repeat the above, but now create three different pipelines:\n",
    "- One for a standard linear SVM\n",
    "- One for a default decision tree\n",
    "- One for a random forest classifier"
   ]
  },
  {
   "cell_type": "code",
   "execution_count": 32,
   "metadata": {},
   "outputs": [
    {
     "name": "stdout",
     "output_type": "stream",
     "text": [
      "Pipeline(memory=None,\n",
      "         steps=[('pca',\n",
      "                 PCA(copy=True, iterated_power='auto', n_components=27,\n",
      "                     random_state=None, svd_solver='auto', tol=0.0,\n",
      "                     whiten=False)),\n",
      "                ('clf',\n",
      "                 SVC(C=1.0, break_ties=False, cache_size=200, class_weight=None,\n",
      "                     coef0=0.0, decision_function_shape='ovr', degree=3,\n",
      "                     gamma='scale', kernel='rbf', max_iter=-1,\n",
      "                     probability=False, random_state=42, shrinking=True,\n",
      "                     tol=0.001, verbose=False))],\n",
      "         verbose=False)\n",
      "Pipeline(memory=None,\n",
      "         steps=[('pca',\n",
      "                 PCA(copy=True, iterated_power='auto', n_components=27,\n",
      "                     random_state=None, svd_solver='auto', tol=0.0,\n",
      "                     whiten=False)),\n",
      "                ('clf',\n",
      "                 DecisionTreeClassifier(ccp_alpha=0.0, class_weight=None,\n",
      "                                        criterion='gini', max_depth=None,\n",
      "                                        max_features=None, max_leaf_nodes=None,\n",
      "                                        min_impurity_decrease=0.0,\n",
      "                                        min_impurity_split=None,\n",
      "                                        min_samples_leaf=1, min_samples_split=2,\n",
      "                                        min_weight_fraction_leaf=0.0,\n",
      "                                        presort='deprecated', random_state=42,\n",
      "                                        splitter='best'))],\n",
      "         verbose=False)\n",
      "Pipeline(memory=None,\n",
      "         steps=[('pca',\n",
      "                 PCA(copy=True, iterated_power='auto', n_components=27,\n",
      "                     random_state=None, svd_solver='auto', tol=0.0,\n",
      "                     whiten=False)),\n",
      "                ('clf',\n",
      "                 RandomForestClassifier(bootstrap=True, ccp_alpha=0.0,\n",
      "                                        class_weight=None, criterion='gini',\n",
      "                                        max_depth=None, max_features='auto',\n",
      "                                        max_leaf_nodes=None, max_samples=None,\n",
      "                                        min_impurity_decrease=0.0,\n",
      "                                        min_impurity_split=None,\n",
      "                                        min_samples_leaf=1, min_samples_split=2,\n",
      "                                        min_weight_fraction_leaf=0.0,\n",
      "                                        n_estimators=100, n_jobs=None,\n",
      "                                        oob_score=False, random_state=42,\n",
      "                                        verbose=0, warm_start=False))],\n",
      "         verbose=False)\n",
      "Support Vector Machine pipeline test accuracy: 0.753\n",
      "Decision Tree pipeline test accuracy: 0.669\n",
      "Random Forest pipeline test accuracy: 0.773\n"
     ]
    }
   ],
   "source": [
    "# Your code here\n",
    "# ⏰ This cell may take several minutes to run\n",
    "from sklearn import svm\n",
    "from sklearn.pipeline import Pipeline\n",
    "from sklearn.ensemble import RandomForestClassifier\n",
    "from sklearn import tree\n",
    "\n",
    "# Constructing the Pipelines babyyy\n",
    "\n",
    "pipe_svm = Pipeline ([('pca', PCA(n_components = 27)),\n",
    "                       ('clf', svm.SVC(random_state = 42))])\n",
    "\n",
    "pipe_tree = Pipeline([('pca', PCA(n_components=27)), \n",
    "                      ('clf', tree.DecisionTreeClassifier(random_state=42))])\n",
    "\n",
    "pipe_rf = Pipeline([('pca', PCA(n_components=27)), \n",
    "                    ('clf', RandomForestClassifier(random_state=42))])\n",
    "# List out our pipelines and pipeline names\n",
    "\n",
    "pipelines = [pipe_svm, pipe_tree, pipe_rf]\n",
    "pipeline_names = ['Support Vector Machine', 'Decision Tree', 'Random Forest']\n",
    "\n",
    "# Loop and fit each of the three pipelines\n",
    "\n",
    "for pipe in pipelines:\n",
    "    print(pipe)\n",
    "    pipe.fit(X_train, y_train)\n",
    "    \n",
    "# Compare your accuracies\n",
    "\n",
    "for index, val in enumerate(pipelines):\n",
    "    print('%s pipeline test accuracy: %.3f' % (pipeline_names[index], val.score(X_test, y_test)))"
   ]
  },
  {
   "cell_type": "markdown",
   "metadata": {},
   "source": [
    "## Pipeline with grid search"
   ]
  },
  {
   "cell_type": "markdown",
   "metadata": {},
   "source": [
    "Construct two pipelines with grid search:\n",
    "- one for random forests - try to have around 40 different models\n",
    "- one for the AdaBoost algorithm "
   ]
  },
  {
   "cell_type": "markdown",
   "metadata": {},
   "source": [
    "### Random Forest pipeline with grid search"
   ]
  },
  {
   "cell_type": "code",
   "execution_count": 33,
   "metadata": {},
   "outputs": [],
   "source": [
    "# Your code here \n",
    "# imports\n",
    "from sklearn import svm\n",
    "from sklearn.model_selection import GridSearchCV\n",
    "from sklearn.pipeline import Pipeline"
   ]
  },
  {
   "cell_type": "code",
   "execution_count": 35,
   "metadata": {
    "scrolled": false
   },
   "outputs": [
    {
     "name": "stdout",
     "output_type": "stream",
     "text": [
      "Fitting 3 folds for each of 54 candidates, totalling 162 fits\n",
      "[CV] clf__criterion=entropy, clf__max_depth=4, clf__min_samples_leaf=0.05, clf__min_samples_split=0.05, clf__n_estimators=120 \n"
     ]
    },
    {
     "name": "stderr",
     "output_type": "stream",
     "text": [
      "[Parallel(n_jobs=1)]: Using backend SequentialBackend with 1 concurrent workers.\n"
     ]
    },
    {
     "name": "stdout",
     "output_type": "stream",
     "text": [
      "[CV]  clf__criterion=entropy, clf__max_depth=4, clf__min_samples_leaf=0.05, clf__min_samples_split=0.05, clf__n_estimators=120, total=  15.1s\n",
      "[CV] clf__criterion=entropy, clf__max_depth=4, clf__min_samples_leaf=0.05, clf__min_samples_split=0.05, clf__n_estimators=120 \n"
     ]
    },
    {
     "name": "stderr",
     "output_type": "stream",
     "text": [
      "[Parallel(n_jobs=1)]: Done   1 out of   1 | elapsed:   15.5s remaining:    0.0s\n"
     ]
    },
    {
     "name": "stdout",
     "output_type": "stream",
     "text": [
      "[CV]  clf__criterion=entropy, clf__max_depth=4, clf__min_samples_leaf=0.05, clf__min_samples_split=0.05, clf__n_estimators=120, total=  13.9s\n",
      "[CV] clf__criterion=entropy, clf__max_depth=4, clf__min_samples_leaf=0.05, clf__min_samples_split=0.05, clf__n_estimators=120 \n",
      "[CV]  clf__criterion=entropy, clf__max_depth=4, clf__min_samples_leaf=0.05, clf__min_samples_split=0.05, clf__n_estimators=120, total=  12.5s\n",
      "[CV] clf__criterion=entropy, clf__max_depth=4, clf__min_samples_leaf=0.05, clf__min_samples_split=0.1, clf__n_estimators=120 \n",
      "[CV]  clf__criterion=entropy, clf__max_depth=4, clf__min_samples_leaf=0.05, clf__min_samples_split=0.1, clf__n_estimators=120, total=  12.4s\n",
      "[CV] clf__criterion=entropy, clf__max_depth=4, clf__min_samples_leaf=0.05, clf__min_samples_split=0.1, clf__n_estimators=120 \n",
      "[CV]  clf__criterion=entropy, clf__max_depth=4, clf__min_samples_leaf=0.05, clf__min_samples_split=0.1, clf__n_estimators=120, total=  13.8s\n",
      "[CV] clf__criterion=entropy, clf__max_depth=4, clf__min_samples_leaf=0.05, clf__min_samples_split=0.1, clf__n_estimators=120 \n",
      "[CV]  clf__criterion=entropy, clf__max_depth=4, clf__min_samples_leaf=0.05, clf__min_samples_split=0.1, clf__n_estimators=120, total=  14.6s\n",
      "[CV] clf__criterion=entropy, clf__max_depth=4, clf__min_samples_leaf=0.05, clf__min_samples_split=0.2, clf__n_estimators=120 \n",
      "[CV]  clf__criterion=entropy, clf__max_depth=4, clf__min_samples_leaf=0.05, clf__min_samples_split=0.2, clf__n_estimators=120, total=  12.8s\n",
      "[CV] clf__criterion=entropy, clf__max_depth=4, clf__min_samples_leaf=0.05, clf__min_samples_split=0.2, clf__n_estimators=120 \n",
      "[CV]  clf__criterion=entropy, clf__max_depth=4, clf__min_samples_leaf=0.05, clf__min_samples_split=0.2, clf__n_estimators=120, total=  12.6s\n",
      "[CV] clf__criterion=entropy, clf__max_depth=4, clf__min_samples_leaf=0.05, clf__min_samples_split=0.2, clf__n_estimators=120 \n",
      "[CV]  clf__criterion=entropy, clf__max_depth=4, clf__min_samples_leaf=0.05, clf__min_samples_split=0.2, clf__n_estimators=120, total=  12.7s\n",
      "[CV] clf__criterion=entropy, clf__max_depth=4, clf__min_samples_leaf=0.1, clf__min_samples_split=0.05, clf__n_estimators=120 \n",
      "[CV]  clf__criterion=entropy, clf__max_depth=4, clf__min_samples_leaf=0.1, clf__min_samples_split=0.05, clf__n_estimators=120, total=   9.0s\n",
      "[CV] clf__criterion=entropy, clf__max_depth=4, clf__min_samples_leaf=0.1, clf__min_samples_split=0.05, clf__n_estimators=120 \n",
      "[CV]  clf__criterion=entropy, clf__max_depth=4, clf__min_samples_leaf=0.1, clf__min_samples_split=0.05, clf__n_estimators=120, total=   9.1s\n",
      "[CV] clf__criterion=entropy, clf__max_depth=4, clf__min_samples_leaf=0.1, clf__min_samples_split=0.05, clf__n_estimators=120 \n",
      "[CV]  clf__criterion=entropy, clf__max_depth=4, clf__min_samples_leaf=0.1, clf__min_samples_split=0.05, clf__n_estimators=120, total=   9.0s\n",
      "[CV] clf__criterion=entropy, clf__max_depth=4, clf__min_samples_leaf=0.1, clf__min_samples_split=0.1, clf__n_estimators=120 \n",
      "[CV]  clf__criterion=entropy, clf__max_depth=4, clf__min_samples_leaf=0.1, clf__min_samples_split=0.1, clf__n_estimators=120, total=   9.2s\n",
      "[CV] clf__criterion=entropy, clf__max_depth=4, clf__min_samples_leaf=0.1, clf__min_samples_split=0.1, clf__n_estimators=120 \n",
      "[CV]  clf__criterion=entropy, clf__max_depth=4, clf__min_samples_leaf=0.1, clf__min_samples_split=0.1, clf__n_estimators=120, total=  10.0s\n",
      "[CV] clf__criterion=entropy, clf__max_depth=4, clf__min_samples_leaf=0.1, clf__min_samples_split=0.1, clf__n_estimators=120 \n",
      "[CV]  clf__criterion=entropy, clf__max_depth=4, clf__min_samples_leaf=0.1, clf__min_samples_split=0.1, clf__n_estimators=120, total=   9.2s\n",
      "[CV] clf__criterion=entropy, clf__max_depth=4, clf__min_samples_leaf=0.1, clf__min_samples_split=0.2, clf__n_estimators=120 \n",
      "[CV]  clf__criterion=entropy, clf__max_depth=4, clf__min_samples_leaf=0.1, clf__min_samples_split=0.2, clf__n_estimators=120, total=   9.4s\n",
      "[CV] clf__criterion=entropy, clf__max_depth=4, clf__min_samples_leaf=0.1, clf__min_samples_split=0.2, clf__n_estimators=120 \n",
      "[CV]  clf__criterion=entropy, clf__max_depth=4, clf__min_samples_leaf=0.1, clf__min_samples_split=0.2, clf__n_estimators=120, total=   9.4s\n",
      "[CV] clf__criterion=entropy, clf__max_depth=4, clf__min_samples_leaf=0.1, clf__min_samples_split=0.2, clf__n_estimators=120 \n",
      "[CV]  clf__criterion=entropy, clf__max_depth=4, clf__min_samples_leaf=0.1, clf__min_samples_split=0.2, clf__n_estimators=120, total=   9.3s\n",
      "[CV] clf__criterion=entropy, clf__max_depth=4, clf__min_samples_leaf=0.2, clf__min_samples_split=0.05, clf__n_estimators=120 \n",
      "[CV]  clf__criterion=entropy, clf__max_depth=4, clf__min_samples_leaf=0.2, clf__min_samples_split=0.05, clf__n_estimators=120, total=   4.9s\n",
      "[CV] clf__criterion=entropy, clf__max_depth=4, clf__min_samples_leaf=0.2, clf__min_samples_split=0.05, clf__n_estimators=120 \n",
      "[CV]  clf__criterion=entropy, clf__max_depth=4, clf__min_samples_leaf=0.2, clf__min_samples_split=0.05, clf__n_estimators=120, total=   4.5s\n",
      "[CV] clf__criterion=entropy, clf__max_depth=4, clf__min_samples_leaf=0.2, clf__min_samples_split=0.05, clf__n_estimators=120 \n",
      "[CV]  clf__criterion=entropy, clf__max_depth=4, clf__min_samples_leaf=0.2, clf__min_samples_split=0.05, clf__n_estimators=120, total=   4.8s\n",
      "[CV] clf__criterion=entropy, clf__max_depth=4, clf__min_samples_leaf=0.2, clf__min_samples_split=0.1, clf__n_estimators=120 \n",
      "[CV]  clf__criterion=entropy, clf__max_depth=4, clf__min_samples_leaf=0.2, clf__min_samples_split=0.1, clf__n_estimators=120, total=   4.9s\n",
      "[CV] clf__criterion=entropy, clf__max_depth=4, clf__min_samples_leaf=0.2, clf__min_samples_split=0.1, clf__n_estimators=120 \n",
      "[CV]  clf__criterion=entropy, clf__max_depth=4, clf__min_samples_leaf=0.2, clf__min_samples_split=0.1, clf__n_estimators=120, total=   4.4s\n",
      "[CV] clf__criterion=entropy, clf__max_depth=4, clf__min_samples_leaf=0.2, clf__min_samples_split=0.1, clf__n_estimators=120 \n",
      "[CV]  clf__criterion=entropy, clf__max_depth=4, clf__min_samples_leaf=0.2, clf__min_samples_split=0.1, clf__n_estimators=120, total=   4.6s\n",
      "[CV] clf__criterion=entropy, clf__max_depth=4, clf__min_samples_leaf=0.2, clf__min_samples_split=0.2, clf__n_estimators=120 \n",
      "[CV]  clf__criterion=entropy, clf__max_depth=4, clf__min_samples_leaf=0.2, clf__min_samples_split=0.2, clf__n_estimators=120, total=   4.5s\n",
      "[CV] clf__criterion=entropy, clf__max_depth=4, clf__min_samples_leaf=0.2, clf__min_samples_split=0.2, clf__n_estimators=120 \n",
      "[CV]  clf__criterion=entropy, clf__max_depth=4, clf__min_samples_leaf=0.2, clf__min_samples_split=0.2, clf__n_estimators=120, total=   4.6s\n",
      "[CV] clf__criterion=entropy, clf__max_depth=4, clf__min_samples_leaf=0.2, clf__min_samples_split=0.2, clf__n_estimators=120 \n",
      "[CV]  clf__criterion=entropy, clf__max_depth=4, clf__min_samples_leaf=0.2, clf__min_samples_split=0.2, clf__n_estimators=120, total=   4.4s\n",
      "[CV] clf__criterion=entropy, clf__max_depth=5, clf__min_samples_leaf=0.05, clf__min_samples_split=0.05, clf__n_estimators=120 \n",
      "[CV]  clf__criterion=entropy, clf__max_depth=5, clf__min_samples_leaf=0.05, clf__min_samples_split=0.05, clf__n_estimators=120, total=  14.8s\n",
      "[CV] clf__criterion=entropy, clf__max_depth=5, clf__min_samples_leaf=0.05, clf__min_samples_split=0.05, clf__n_estimators=120 \n",
      "[CV]  clf__criterion=entropy, clf__max_depth=5, clf__min_samples_leaf=0.05, clf__min_samples_split=0.05, clf__n_estimators=120, total=  14.8s\n",
      "[CV] clf__criterion=entropy, clf__max_depth=5, clf__min_samples_leaf=0.05, clf__min_samples_split=0.05, clf__n_estimators=120 \n",
      "[CV]  clf__criterion=entropy, clf__max_depth=5, clf__min_samples_leaf=0.05, clf__min_samples_split=0.05, clf__n_estimators=120, total=  15.2s\n",
      "[CV] clf__criterion=entropy, clf__max_depth=5, clf__min_samples_leaf=0.05, clf__min_samples_split=0.1, clf__n_estimators=120 \n",
      "[CV]  clf__criterion=entropy, clf__max_depth=5, clf__min_samples_leaf=0.05, clf__min_samples_split=0.1, clf__n_estimators=120, total=  15.5s\n",
      "[CV] clf__criterion=entropy, clf__max_depth=5, clf__min_samples_leaf=0.05, clf__min_samples_split=0.1, clf__n_estimators=120 \n",
      "[CV]  clf__criterion=entropy, clf__max_depth=5, clf__min_samples_leaf=0.05, clf__min_samples_split=0.1, clf__n_estimators=120, total=  15.0s\n",
      "[CV] clf__criterion=entropy, clf__max_depth=5, clf__min_samples_leaf=0.05, clf__min_samples_split=0.1, clf__n_estimators=120 \n"
     ]
    },
    {
     "name": "stdout",
     "output_type": "stream",
     "text": [
      "[CV]  clf__criterion=entropy, clf__max_depth=5, clf__min_samples_leaf=0.05, clf__min_samples_split=0.1, clf__n_estimators=120, total=  15.1s\n",
      "[CV] clf__criterion=entropy, clf__max_depth=5, clf__min_samples_leaf=0.05, clf__min_samples_split=0.2, clf__n_estimators=120 \n",
      "[CV]  clf__criterion=entropy, clf__max_depth=5, clf__min_samples_leaf=0.05, clf__min_samples_split=0.2, clf__n_estimators=120, total=  12.5s\n",
      "[CV] clf__criterion=entropy, clf__max_depth=5, clf__min_samples_leaf=0.05, clf__min_samples_split=0.2, clf__n_estimators=120 \n",
      "[CV]  clf__criterion=entropy, clf__max_depth=5, clf__min_samples_leaf=0.05, clf__min_samples_split=0.2, clf__n_estimators=120, total=  14.1s\n",
      "[CV] clf__criterion=entropy, clf__max_depth=5, clf__min_samples_leaf=0.05, clf__min_samples_split=0.2, clf__n_estimators=120 \n",
      "[CV]  clf__criterion=entropy, clf__max_depth=5, clf__min_samples_leaf=0.05, clf__min_samples_split=0.2, clf__n_estimators=120, total=  14.7s\n",
      "[CV] clf__criterion=entropy, clf__max_depth=5, clf__min_samples_leaf=0.1, clf__min_samples_split=0.05, clf__n_estimators=120 \n",
      "[CV]  clf__criterion=entropy, clf__max_depth=5, clf__min_samples_leaf=0.1, clf__min_samples_split=0.05, clf__n_estimators=120, total=   8.3s\n",
      "[CV] clf__criterion=entropy, clf__max_depth=5, clf__min_samples_leaf=0.1, clf__min_samples_split=0.05, clf__n_estimators=120 \n",
      "[CV]  clf__criterion=entropy, clf__max_depth=5, clf__min_samples_leaf=0.1, clf__min_samples_split=0.05, clf__n_estimators=120, total=   8.7s\n",
      "[CV] clf__criterion=entropy, clf__max_depth=5, clf__min_samples_leaf=0.1, clf__min_samples_split=0.05, clf__n_estimators=120 \n",
      "[CV]  clf__criterion=entropy, clf__max_depth=5, clf__min_samples_leaf=0.1, clf__min_samples_split=0.05, clf__n_estimators=120, total=   8.1s\n",
      "[CV] clf__criterion=entropy, clf__max_depth=5, clf__min_samples_leaf=0.1, clf__min_samples_split=0.1, clf__n_estimators=120 \n",
      "[CV]  clf__criterion=entropy, clf__max_depth=5, clf__min_samples_leaf=0.1, clf__min_samples_split=0.1, clf__n_estimators=120, total=   8.8s\n",
      "[CV] clf__criterion=entropy, clf__max_depth=5, clf__min_samples_leaf=0.1, clf__min_samples_split=0.1, clf__n_estimators=120 \n",
      "[CV]  clf__criterion=entropy, clf__max_depth=5, clf__min_samples_leaf=0.1, clf__min_samples_split=0.1, clf__n_estimators=120, total=   8.2s\n",
      "[CV] clf__criterion=entropy, clf__max_depth=5, clf__min_samples_leaf=0.1, clf__min_samples_split=0.1, clf__n_estimators=120 \n",
      "[CV]  clf__criterion=entropy, clf__max_depth=5, clf__min_samples_leaf=0.1, clf__min_samples_split=0.1, clf__n_estimators=120, total=   9.4s\n",
      "[CV] clf__criterion=entropy, clf__max_depth=5, clf__min_samples_leaf=0.1, clf__min_samples_split=0.2, clf__n_estimators=120 \n",
      "[CV]  clf__criterion=entropy, clf__max_depth=5, clf__min_samples_leaf=0.1, clf__min_samples_split=0.2, clf__n_estimators=120, total=   8.9s\n",
      "[CV] clf__criterion=entropy, clf__max_depth=5, clf__min_samples_leaf=0.1, clf__min_samples_split=0.2, clf__n_estimators=120 \n",
      "[CV]  clf__criterion=entropy, clf__max_depth=5, clf__min_samples_leaf=0.1, clf__min_samples_split=0.2, clf__n_estimators=120, total=   8.7s\n",
      "[CV] clf__criterion=entropy, clf__max_depth=5, clf__min_samples_leaf=0.1, clf__min_samples_split=0.2, clf__n_estimators=120 \n",
      "[CV]  clf__criterion=entropy, clf__max_depth=5, clf__min_samples_leaf=0.1, clf__min_samples_split=0.2, clf__n_estimators=120, total=   9.1s\n",
      "[CV] clf__criterion=entropy, clf__max_depth=5, clf__min_samples_leaf=0.2, clf__min_samples_split=0.05, clf__n_estimators=120 \n",
      "[CV]  clf__criterion=entropy, clf__max_depth=5, clf__min_samples_leaf=0.2, clf__min_samples_split=0.05, clf__n_estimators=120, total=   4.4s\n",
      "[CV] clf__criterion=entropy, clf__max_depth=5, clf__min_samples_leaf=0.2, clf__min_samples_split=0.05, clf__n_estimators=120 \n",
      "[CV]  clf__criterion=entropy, clf__max_depth=5, clf__min_samples_leaf=0.2, clf__min_samples_split=0.05, clf__n_estimators=120, total=   4.2s\n",
      "[CV] clf__criterion=entropy, clf__max_depth=5, clf__min_samples_leaf=0.2, clf__min_samples_split=0.05, clf__n_estimators=120 \n",
      "[CV]  clf__criterion=entropy, clf__max_depth=5, clf__min_samples_leaf=0.2, clf__min_samples_split=0.05, clf__n_estimators=120, total=   4.6s\n",
      "[CV] clf__criterion=entropy, clf__max_depth=5, clf__min_samples_leaf=0.2, clf__min_samples_split=0.1, clf__n_estimators=120 \n",
      "[CV]  clf__criterion=entropy, clf__max_depth=5, clf__min_samples_leaf=0.2, clf__min_samples_split=0.1, clf__n_estimators=120, total=   4.3s\n",
      "[CV] clf__criterion=entropy, clf__max_depth=5, clf__min_samples_leaf=0.2, clf__min_samples_split=0.1, clf__n_estimators=120 \n",
      "[CV]  clf__criterion=entropy, clf__max_depth=5, clf__min_samples_leaf=0.2, clf__min_samples_split=0.1, clf__n_estimators=120, total=   4.3s\n",
      "[CV] clf__criterion=entropy, clf__max_depth=5, clf__min_samples_leaf=0.2, clf__min_samples_split=0.1, clf__n_estimators=120 \n",
      "[CV]  clf__criterion=entropy, clf__max_depth=5, clf__min_samples_leaf=0.2, clf__min_samples_split=0.1, clf__n_estimators=120, total=   4.4s\n",
      "[CV] clf__criterion=entropy, clf__max_depth=5, clf__min_samples_leaf=0.2, clf__min_samples_split=0.2, clf__n_estimators=120 \n",
      "[CV]  clf__criterion=entropy, clf__max_depth=5, clf__min_samples_leaf=0.2, clf__min_samples_split=0.2, clf__n_estimators=120, total=   4.4s\n",
      "[CV] clf__criterion=entropy, clf__max_depth=5, clf__min_samples_leaf=0.2, clf__min_samples_split=0.2, clf__n_estimators=120 \n",
      "[CV]  clf__criterion=entropy, clf__max_depth=5, clf__min_samples_leaf=0.2, clf__min_samples_split=0.2, clf__n_estimators=120, total=   4.3s\n",
      "[CV] clf__criterion=entropy, clf__max_depth=5, clf__min_samples_leaf=0.2, clf__min_samples_split=0.2, clf__n_estimators=120 \n",
      "[CV]  clf__criterion=entropy, clf__max_depth=5, clf__min_samples_leaf=0.2, clf__min_samples_split=0.2, clf__n_estimators=120, total=   4.2s\n",
      "[CV] clf__criterion=entropy, clf__max_depth=6, clf__min_samples_leaf=0.05, clf__min_samples_split=0.05, clf__n_estimators=120 \n",
      "[CV]  clf__criterion=entropy, clf__max_depth=6, clf__min_samples_leaf=0.05, clf__min_samples_split=0.05, clf__n_estimators=120, total=  14.3s\n",
      "[CV] clf__criterion=entropy, clf__max_depth=6, clf__min_samples_leaf=0.05, clf__min_samples_split=0.05, clf__n_estimators=120 \n",
      "[CV]  clf__criterion=entropy, clf__max_depth=6, clf__min_samples_leaf=0.05, clf__min_samples_split=0.05, clf__n_estimators=120, total=  14.8s\n",
      "[CV] clf__criterion=entropy, clf__max_depth=6, clf__min_samples_leaf=0.05, clf__min_samples_split=0.05, clf__n_estimators=120 \n",
      "[CV]  clf__criterion=entropy, clf__max_depth=6, clf__min_samples_leaf=0.05, clf__min_samples_split=0.05, clf__n_estimators=120, total=  14.7s\n",
      "[CV] clf__criterion=entropy, clf__max_depth=6, clf__min_samples_leaf=0.05, clf__min_samples_split=0.1, clf__n_estimators=120 \n",
      "[CV]  clf__criterion=entropy, clf__max_depth=6, clf__min_samples_leaf=0.05, clf__min_samples_split=0.1, clf__n_estimators=120, total=  14.3s\n",
      "[CV] clf__criterion=entropy, clf__max_depth=6, clf__min_samples_leaf=0.05, clf__min_samples_split=0.1, clf__n_estimators=120 \n",
      "[CV]  clf__criterion=entropy, clf__max_depth=6, clf__min_samples_leaf=0.05, clf__min_samples_split=0.1, clf__n_estimators=120, total=  14.5s\n",
      "[CV] clf__criterion=entropy, clf__max_depth=6, clf__min_samples_leaf=0.05, clf__min_samples_split=0.1, clf__n_estimators=120 \n",
      "[CV]  clf__criterion=entropy, clf__max_depth=6, clf__min_samples_leaf=0.05, clf__min_samples_split=0.1, clf__n_estimators=120, total=  14.6s\n",
      "[CV] clf__criterion=entropy, clf__max_depth=6, clf__min_samples_leaf=0.05, clf__min_samples_split=0.2, clf__n_estimators=120 \n",
      "[CV]  clf__criterion=entropy, clf__max_depth=6, clf__min_samples_leaf=0.05, clf__min_samples_split=0.2, clf__n_estimators=120, total=  14.7s\n",
      "[CV] clf__criterion=entropy, clf__max_depth=6, clf__min_samples_leaf=0.05, clf__min_samples_split=0.2, clf__n_estimators=120 \n",
      "[CV]  clf__criterion=entropy, clf__max_depth=6, clf__min_samples_leaf=0.05, clf__min_samples_split=0.2, clf__n_estimators=120, total=  14.8s\n",
      "[CV] clf__criterion=entropy, clf__max_depth=6, clf__min_samples_leaf=0.05, clf__min_samples_split=0.2, clf__n_estimators=120 \n",
      "[CV]  clf__criterion=entropy, clf__max_depth=6, clf__min_samples_leaf=0.05, clf__min_samples_split=0.2, clf__n_estimators=120, total=  16.0s\n",
      "[CV] clf__criterion=entropy, clf__max_depth=6, clf__min_samples_leaf=0.1, clf__min_samples_split=0.05, clf__n_estimators=120 \n"
     ]
    },
    {
     "name": "stdout",
     "output_type": "stream",
     "text": [
      "[CV]  clf__criterion=entropy, clf__max_depth=6, clf__min_samples_leaf=0.1, clf__min_samples_split=0.05, clf__n_estimators=120, total=   8.4s\n",
      "[CV] clf__criterion=entropy, clf__max_depth=6, clf__min_samples_leaf=0.1, clf__min_samples_split=0.05, clf__n_estimators=120 \n",
      "[CV]  clf__criterion=entropy, clf__max_depth=6, clf__min_samples_leaf=0.1, clf__min_samples_split=0.05, clf__n_estimators=120, total=   8.8s\n",
      "[CV] clf__criterion=entropy, clf__max_depth=6, clf__min_samples_leaf=0.1, clf__min_samples_split=0.05, clf__n_estimators=120 \n",
      "[CV]  clf__criterion=entropy, clf__max_depth=6, clf__min_samples_leaf=0.1, clf__min_samples_split=0.05, clf__n_estimators=120, total=   8.3s\n",
      "[CV] clf__criterion=entropy, clf__max_depth=6, clf__min_samples_leaf=0.1, clf__min_samples_split=0.1, clf__n_estimators=120 \n",
      "[CV]  clf__criterion=entropy, clf__max_depth=6, clf__min_samples_leaf=0.1, clf__min_samples_split=0.1, clf__n_estimators=120, total=   8.0s\n",
      "[CV] clf__criterion=entropy, clf__max_depth=6, clf__min_samples_leaf=0.1, clf__min_samples_split=0.1, clf__n_estimators=120 \n",
      "[CV]  clf__criterion=entropy, clf__max_depth=6, clf__min_samples_leaf=0.1, clf__min_samples_split=0.1, clf__n_estimators=120, total=   8.8s\n",
      "[CV] clf__criterion=entropy, clf__max_depth=6, clf__min_samples_leaf=0.1, clf__min_samples_split=0.1, clf__n_estimators=120 \n",
      "[CV]  clf__criterion=entropy, clf__max_depth=6, clf__min_samples_leaf=0.1, clf__min_samples_split=0.1, clf__n_estimators=120, total=   8.0s\n",
      "[CV] clf__criterion=entropy, clf__max_depth=6, clf__min_samples_leaf=0.1, clf__min_samples_split=0.2, clf__n_estimators=120 \n",
      "[CV]  clf__criterion=entropy, clf__max_depth=6, clf__min_samples_leaf=0.1, clf__min_samples_split=0.2, clf__n_estimators=120, total=   8.1s\n",
      "[CV] clf__criterion=entropy, clf__max_depth=6, clf__min_samples_leaf=0.1, clf__min_samples_split=0.2, clf__n_estimators=120 \n",
      "[CV]  clf__criterion=entropy, clf__max_depth=6, clf__min_samples_leaf=0.1, clf__min_samples_split=0.2, clf__n_estimators=120, total=   7.9s\n",
      "[CV] clf__criterion=entropy, clf__max_depth=6, clf__min_samples_leaf=0.1, clf__min_samples_split=0.2, clf__n_estimators=120 \n",
      "[CV]  clf__criterion=entropy, clf__max_depth=6, clf__min_samples_leaf=0.1, clf__min_samples_split=0.2, clf__n_estimators=120, total=   8.1s\n",
      "[CV] clf__criterion=entropy, clf__max_depth=6, clf__min_samples_leaf=0.2, clf__min_samples_split=0.05, clf__n_estimators=120 \n",
      "[CV]  clf__criterion=entropy, clf__max_depth=6, clf__min_samples_leaf=0.2, clf__min_samples_split=0.05, clf__n_estimators=120, total=   3.9s\n",
      "[CV] clf__criterion=entropy, clf__max_depth=6, clf__min_samples_leaf=0.2, clf__min_samples_split=0.05, clf__n_estimators=120 \n",
      "[CV]  clf__criterion=entropy, clf__max_depth=6, clf__min_samples_leaf=0.2, clf__min_samples_split=0.05, clf__n_estimators=120, total=   3.8s\n",
      "[CV] clf__criterion=entropy, clf__max_depth=6, clf__min_samples_leaf=0.2, clf__min_samples_split=0.05, clf__n_estimators=120 \n",
      "[CV]  clf__criterion=entropy, clf__max_depth=6, clf__min_samples_leaf=0.2, clf__min_samples_split=0.05, clf__n_estimators=120, total=   4.0s\n",
      "[CV] clf__criterion=entropy, clf__max_depth=6, clf__min_samples_leaf=0.2, clf__min_samples_split=0.1, clf__n_estimators=120 \n",
      "[CV]  clf__criterion=entropy, clf__max_depth=6, clf__min_samples_leaf=0.2, clf__min_samples_split=0.1, clf__n_estimators=120, total=   3.9s\n",
      "[CV] clf__criterion=entropy, clf__max_depth=6, clf__min_samples_leaf=0.2, clf__min_samples_split=0.1, clf__n_estimators=120 \n",
      "[CV]  clf__criterion=entropy, clf__max_depth=6, clf__min_samples_leaf=0.2, clf__min_samples_split=0.1, clf__n_estimators=120, total=   3.9s\n",
      "[CV] clf__criterion=entropy, clf__max_depth=6, clf__min_samples_leaf=0.2, clf__min_samples_split=0.1, clf__n_estimators=120 \n",
      "[CV]  clf__criterion=entropy, clf__max_depth=6, clf__min_samples_leaf=0.2, clf__min_samples_split=0.1, clf__n_estimators=120, total=   3.8s\n",
      "[CV] clf__criterion=entropy, clf__max_depth=6, clf__min_samples_leaf=0.2, clf__min_samples_split=0.2, clf__n_estimators=120 \n",
      "[CV]  clf__criterion=entropy, clf__max_depth=6, clf__min_samples_leaf=0.2, clf__min_samples_split=0.2, clf__n_estimators=120, total=   4.1s\n",
      "[CV] clf__criterion=entropy, clf__max_depth=6, clf__min_samples_leaf=0.2, clf__min_samples_split=0.2, clf__n_estimators=120 \n",
      "[CV]  clf__criterion=entropy, clf__max_depth=6, clf__min_samples_leaf=0.2, clf__min_samples_split=0.2, clf__n_estimators=120, total=   3.8s\n",
      "[CV] clf__criterion=entropy, clf__max_depth=6, clf__min_samples_leaf=0.2, clf__min_samples_split=0.2, clf__n_estimators=120 \n",
      "[CV]  clf__criterion=entropy, clf__max_depth=6, clf__min_samples_leaf=0.2, clf__min_samples_split=0.2, clf__n_estimators=120, total=   3.9s\n",
      "[CV] clf__criterion=gini, clf__max_depth=4, clf__min_samples_leaf=0.05, clf__min_samples_split=0.05, clf__n_estimators=120 \n",
      "[CV]  clf__criterion=gini, clf__max_depth=4, clf__min_samples_leaf=0.05, clf__min_samples_split=0.05, clf__n_estimators=120, total=   5.9s\n",
      "[CV] clf__criterion=gini, clf__max_depth=4, clf__min_samples_leaf=0.05, clf__min_samples_split=0.05, clf__n_estimators=120 \n",
      "[CV]  clf__criterion=gini, clf__max_depth=4, clf__min_samples_leaf=0.05, clf__min_samples_split=0.05, clf__n_estimators=120, total=   5.7s\n",
      "[CV] clf__criterion=gini, clf__max_depth=4, clf__min_samples_leaf=0.05, clf__min_samples_split=0.05, clf__n_estimators=120 \n",
      "[CV]  clf__criterion=gini, clf__max_depth=4, clf__min_samples_leaf=0.05, clf__min_samples_split=0.05, clf__n_estimators=120, total=   5.8s\n",
      "[CV] clf__criterion=gini, clf__max_depth=4, clf__min_samples_leaf=0.05, clf__min_samples_split=0.1, clf__n_estimators=120 \n",
      "[CV]  clf__criterion=gini, clf__max_depth=4, clf__min_samples_leaf=0.05, clf__min_samples_split=0.1, clf__n_estimators=120, total=   5.8s\n",
      "[CV] clf__criterion=gini, clf__max_depth=4, clf__min_samples_leaf=0.05, clf__min_samples_split=0.1, clf__n_estimators=120 \n",
      "[CV]  clf__criterion=gini, clf__max_depth=4, clf__min_samples_leaf=0.05, clf__min_samples_split=0.1, clf__n_estimators=120, total=   5.5s\n",
      "[CV] clf__criterion=gini, clf__max_depth=4, clf__min_samples_leaf=0.05, clf__min_samples_split=0.1, clf__n_estimators=120 \n",
      "[CV]  clf__criterion=gini, clf__max_depth=4, clf__min_samples_leaf=0.05, clf__min_samples_split=0.1, clf__n_estimators=120, total=   5.7s\n",
      "[CV] clf__criterion=gini, clf__max_depth=4, clf__min_samples_leaf=0.05, clf__min_samples_split=0.2, clf__n_estimators=120 \n",
      "[CV]  clf__criterion=gini, clf__max_depth=4, clf__min_samples_leaf=0.05, clf__min_samples_split=0.2, clf__n_estimators=120, total=   5.3s\n",
      "[CV] clf__criterion=gini, clf__max_depth=4, clf__min_samples_leaf=0.05, clf__min_samples_split=0.2, clf__n_estimators=120 \n",
      "[CV]  clf__criterion=gini, clf__max_depth=4, clf__min_samples_leaf=0.05, clf__min_samples_split=0.2, clf__n_estimators=120, total=   4.9s\n",
      "[CV] clf__criterion=gini, clf__max_depth=4, clf__min_samples_leaf=0.05, clf__min_samples_split=0.2, clf__n_estimators=120 \n",
      "[CV]  clf__criterion=gini, clf__max_depth=4, clf__min_samples_leaf=0.05, clf__min_samples_split=0.2, clf__n_estimators=120, total=   5.1s\n",
      "[CV] clf__criterion=gini, clf__max_depth=4, clf__min_samples_leaf=0.1, clf__min_samples_split=0.05, clf__n_estimators=120 \n",
      "[CV]  clf__criterion=gini, clf__max_depth=4, clf__min_samples_leaf=0.1, clf__min_samples_split=0.05, clf__n_estimators=120, total=   4.4s\n",
      "[CV] clf__criterion=gini, clf__max_depth=4, clf__min_samples_leaf=0.1, clf__min_samples_split=0.05, clf__n_estimators=120 \n",
      "[CV]  clf__criterion=gini, clf__max_depth=4, clf__min_samples_leaf=0.1, clf__min_samples_split=0.05, clf__n_estimators=120, total=   4.4s\n",
      "[CV] clf__criterion=gini, clf__max_depth=4, clf__min_samples_leaf=0.1, clf__min_samples_split=0.05, clf__n_estimators=120 \n",
      "[CV]  clf__criterion=gini, clf__max_depth=4, clf__min_samples_leaf=0.1, clf__min_samples_split=0.05, clf__n_estimators=120, total=   4.5s\n",
      "[CV] clf__criterion=gini, clf__max_depth=4, clf__min_samples_leaf=0.1, clf__min_samples_split=0.1, clf__n_estimators=120 \n",
      "[CV]  clf__criterion=gini, clf__max_depth=4, clf__min_samples_leaf=0.1, clf__min_samples_split=0.1, clf__n_estimators=120, total=   4.4s\n",
      "[CV] clf__criterion=gini, clf__max_depth=4, clf__min_samples_leaf=0.1, clf__min_samples_split=0.1, clf__n_estimators=120 \n",
      "[CV]  clf__criterion=gini, clf__max_depth=4, clf__min_samples_leaf=0.1, clf__min_samples_split=0.1, clf__n_estimators=120, total=   4.3s\n",
      "[CV] clf__criterion=gini, clf__max_depth=4, clf__min_samples_leaf=0.1, clf__min_samples_split=0.1, clf__n_estimators=120 \n"
     ]
    },
    {
     "name": "stdout",
     "output_type": "stream",
     "text": [
      "[CV]  clf__criterion=gini, clf__max_depth=4, clf__min_samples_leaf=0.1, clf__min_samples_split=0.1, clf__n_estimators=120, total=   4.5s\n",
      "[CV] clf__criterion=gini, clf__max_depth=4, clf__min_samples_leaf=0.1, clf__min_samples_split=0.2, clf__n_estimators=120 \n",
      "[CV]  clf__criterion=gini, clf__max_depth=4, clf__min_samples_leaf=0.1, clf__min_samples_split=0.2, clf__n_estimators=120, total=   4.6s\n",
      "[CV] clf__criterion=gini, clf__max_depth=4, clf__min_samples_leaf=0.1, clf__min_samples_split=0.2, clf__n_estimators=120 \n",
      "[CV]  clf__criterion=gini, clf__max_depth=4, clf__min_samples_leaf=0.1, clf__min_samples_split=0.2, clf__n_estimators=120, total=   4.3s\n",
      "[CV] clf__criterion=gini, clf__max_depth=4, clf__min_samples_leaf=0.1, clf__min_samples_split=0.2, clf__n_estimators=120 \n",
      "[CV]  clf__criterion=gini, clf__max_depth=4, clf__min_samples_leaf=0.1, clf__min_samples_split=0.2, clf__n_estimators=120, total=   4.4s\n",
      "[CV] clf__criterion=gini, clf__max_depth=4, clf__min_samples_leaf=0.2, clf__min_samples_split=0.05, clf__n_estimators=120 \n",
      "[CV]  clf__criterion=gini, clf__max_depth=4, clf__min_samples_leaf=0.2, clf__min_samples_split=0.05, clf__n_estimators=120, total=   3.2s\n",
      "[CV] clf__criterion=gini, clf__max_depth=4, clf__min_samples_leaf=0.2, clf__min_samples_split=0.05, clf__n_estimators=120 \n",
      "[CV]  clf__criterion=gini, clf__max_depth=4, clf__min_samples_leaf=0.2, clf__min_samples_split=0.05, clf__n_estimators=120, total=   3.1s\n",
      "[CV] clf__criterion=gini, clf__max_depth=4, clf__min_samples_leaf=0.2, clf__min_samples_split=0.05, clf__n_estimators=120 \n",
      "[CV]  clf__criterion=gini, clf__max_depth=4, clf__min_samples_leaf=0.2, clf__min_samples_split=0.05, clf__n_estimators=120, total=   3.1s\n",
      "[CV] clf__criterion=gini, clf__max_depth=4, clf__min_samples_leaf=0.2, clf__min_samples_split=0.1, clf__n_estimators=120 \n",
      "[CV]  clf__criterion=gini, clf__max_depth=4, clf__min_samples_leaf=0.2, clf__min_samples_split=0.1, clf__n_estimators=120, total=   3.0s\n",
      "[CV] clf__criterion=gini, clf__max_depth=4, clf__min_samples_leaf=0.2, clf__min_samples_split=0.1, clf__n_estimators=120 \n",
      "[CV]  clf__criterion=gini, clf__max_depth=4, clf__min_samples_leaf=0.2, clf__min_samples_split=0.1, clf__n_estimators=120, total=   3.0s\n",
      "[CV] clf__criterion=gini, clf__max_depth=4, clf__min_samples_leaf=0.2, clf__min_samples_split=0.1, clf__n_estimators=120 \n",
      "[CV]  clf__criterion=gini, clf__max_depth=4, clf__min_samples_leaf=0.2, clf__min_samples_split=0.1, clf__n_estimators=120, total=   2.9s\n",
      "[CV] clf__criterion=gini, clf__max_depth=4, clf__min_samples_leaf=0.2, clf__min_samples_split=0.2, clf__n_estimators=120 \n",
      "[CV]  clf__criterion=gini, clf__max_depth=4, clf__min_samples_leaf=0.2, clf__min_samples_split=0.2, clf__n_estimators=120, total=   2.8s\n",
      "[CV] clf__criterion=gini, clf__max_depth=4, clf__min_samples_leaf=0.2, clf__min_samples_split=0.2, clf__n_estimators=120 \n",
      "[CV]  clf__criterion=gini, clf__max_depth=4, clf__min_samples_leaf=0.2, clf__min_samples_split=0.2, clf__n_estimators=120, total=   2.8s\n",
      "[CV] clf__criterion=gini, clf__max_depth=4, clf__min_samples_leaf=0.2, clf__min_samples_split=0.2, clf__n_estimators=120 \n",
      "[CV]  clf__criterion=gini, clf__max_depth=4, clf__min_samples_leaf=0.2, clf__min_samples_split=0.2, clf__n_estimators=120, total=   2.7s\n",
      "[CV] clf__criterion=gini, clf__max_depth=5, clf__min_samples_leaf=0.05, clf__min_samples_split=0.05, clf__n_estimators=120 \n",
      "[CV]  clf__criterion=gini, clf__max_depth=5, clf__min_samples_leaf=0.05, clf__min_samples_split=0.05, clf__n_estimators=120, total=   6.0s\n",
      "[CV] clf__criterion=gini, clf__max_depth=5, clf__min_samples_leaf=0.05, clf__min_samples_split=0.05, clf__n_estimators=120 \n",
      "[CV]  clf__criterion=gini, clf__max_depth=5, clf__min_samples_leaf=0.05, clf__min_samples_split=0.05, clf__n_estimators=120, total=   5.9s\n",
      "[CV] clf__criterion=gini, clf__max_depth=5, clf__min_samples_leaf=0.05, clf__min_samples_split=0.05, clf__n_estimators=120 \n",
      "[CV]  clf__criterion=gini, clf__max_depth=5, clf__min_samples_leaf=0.05, clf__min_samples_split=0.05, clf__n_estimators=120, total=   5.8s\n",
      "[CV] clf__criterion=gini, clf__max_depth=5, clf__min_samples_leaf=0.05, clf__min_samples_split=0.1, clf__n_estimators=120 \n",
      "[CV]  clf__criterion=gini, clf__max_depth=5, clf__min_samples_leaf=0.05, clf__min_samples_split=0.1, clf__n_estimators=120, total=   5.8s\n",
      "[CV] clf__criterion=gini, clf__max_depth=5, clf__min_samples_leaf=0.05, clf__min_samples_split=0.1, clf__n_estimators=120 \n",
      "[CV]  clf__criterion=gini, clf__max_depth=5, clf__min_samples_leaf=0.05, clf__min_samples_split=0.1, clf__n_estimators=120, total=   6.0s\n",
      "[CV] clf__criterion=gini, clf__max_depth=5, clf__min_samples_leaf=0.05, clf__min_samples_split=0.1, clf__n_estimators=120 \n",
      "[CV]  clf__criterion=gini, clf__max_depth=5, clf__min_samples_leaf=0.05, clf__min_samples_split=0.1, clf__n_estimators=120, total=   5.8s\n",
      "[CV] clf__criterion=gini, clf__max_depth=5, clf__min_samples_leaf=0.05, clf__min_samples_split=0.2, clf__n_estimators=120 \n",
      "[CV]  clf__criterion=gini, clf__max_depth=5, clf__min_samples_leaf=0.05, clf__min_samples_split=0.2, clf__n_estimators=120, total=   4.9s\n",
      "[CV] clf__criterion=gini, clf__max_depth=5, clf__min_samples_leaf=0.05, clf__min_samples_split=0.2, clf__n_estimators=120 \n",
      "[CV]  clf__criterion=gini, clf__max_depth=5, clf__min_samples_leaf=0.05, clf__min_samples_split=0.2, clf__n_estimators=120, total=   5.0s\n",
      "[CV] clf__criterion=gini, clf__max_depth=5, clf__min_samples_leaf=0.05, clf__min_samples_split=0.2, clf__n_estimators=120 \n",
      "[CV]  clf__criterion=gini, clf__max_depth=5, clf__min_samples_leaf=0.05, clf__min_samples_split=0.2, clf__n_estimators=120, total=   5.4s\n",
      "[CV] clf__criterion=gini, clf__max_depth=5, clf__min_samples_leaf=0.1, clf__min_samples_split=0.05, clf__n_estimators=120 \n",
      "[CV]  clf__criterion=gini, clf__max_depth=5, clf__min_samples_leaf=0.1, clf__min_samples_split=0.05, clf__n_estimators=120, total=   4.5s\n",
      "[CV] clf__criterion=gini, clf__max_depth=5, clf__min_samples_leaf=0.1, clf__min_samples_split=0.05, clf__n_estimators=120 \n",
      "[CV]  clf__criterion=gini, clf__max_depth=5, clf__min_samples_leaf=0.1, clf__min_samples_split=0.05, clf__n_estimators=120, total=   4.4s\n",
      "[CV] clf__criterion=gini, clf__max_depth=5, clf__min_samples_leaf=0.1, clf__min_samples_split=0.05, clf__n_estimators=120 \n",
      "[CV]  clf__criterion=gini, clf__max_depth=5, clf__min_samples_leaf=0.1, clf__min_samples_split=0.05, clf__n_estimators=120, total=   4.5s\n",
      "[CV] clf__criterion=gini, clf__max_depth=5, clf__min_samples_leaf=0.1, clf__min_samples_split=0.1, clf__n_estimators=120 \n",
      "[CV]  clf__criterion=gini, clf__max_depth=5, clf__min_samples_leaf=0.1, clf__min_samples_split=0.1, clf__n_estimators=120, total=   4.1s\n",
      "[CV] clf__criterion=gini, clf__max_depth=5, clf__min_samples_leaf=0.1, clf__min_samples_split=0.1, clf__n_estimators=120 \n",
      "[CV]  clf__criterion=gini, clf__max_depth=5, clf__min_samples_leaf=0.1, clf__min_samples_split=0.1, clf__n_estimators=120, total=   4.1s\n",
      "[CV] clf__criterion=gini, clf__max_depth=5, clf__min_samples_leaf=0.1, clf__min_samples_split=0.1, clf__n_estimators=120 \n",
      "[CV]  clf__criterion=gini, clf__max_depth=5, clf__min_samples_leaf=0.1, clf__min_samples_split=0.1, clf__n_estimators=120, total=   4.4s\n",
      "[CV] clf__criterion=gini, clf__max_depth=5, clf__min_samples_leaf=0.1, clf__min_samples_split=0.2, clf__n_estimators=120 \n",
      "[CV]  clf__criterion=gini, clf__max_depth=5, clf__min_samples_leaf=0.1, clf__min_samples_split=0.2, clf__n_estimators=120, total=   4.3s\n",
      "[CV] clf__criterion=gini, clf__max_depth=5, clf__min_samples_leaf=0.1, clf__min_samples_split=0.2, clf__n_estimators=120 \n",
      "[CV]  clf__criterion=gini, clf__max_depth=5, clf__min_samples_leaf=0.1, clf__min_samples_split=0.2, clf__n_estimators=120, total=   4.1s\n",
      "[CV] clf__criterion=gini, clf__max_depth=5, clf__min_samples_leaf=0.1, clf__min_samples_split=0.2, clf__n_estimators=120 \n",
      "[CV]  clf__criterion=gini, clf__max_depth=5, clf__min_samples_leaf=0.1, clf__min_samples_split=0.2, clf__n_estimators=120, total=   5.0s\n",
      "[CV] clf__criterion=gini, clf__max_depth=5, clf__min_samples_leaf=0.2, clf__min_samples_split=0.05, clf__n_estimators=120 \n",
      "[CV]  clf__criterion=gini, clf__max_depth=5, clf__min_samples_leaf=0.2, clf__min_samples_split=0.05, clf__n_estimators=120, total=   3.0s\n",
      "[CV] clf__criterion=gini, clf__max_depth=5, clf__min_samples_leaf=0.2, clf__min_samples_split=0.05, clf__n_estimators=120 \n"
     ]
    },
    {
     "name": "stdout",
     "output_type": "stream",
     "text": [
      "[CV]  clf__criterion=gini, clf__max_depth=5, clf__min_samples_leaf=0.2, clf__min_samples_split=0.05, clf__n_estimators=120, total=   3.0s\n",
      "[CV] clf__criterion=gini, clf__max_depth=5, clf__min_samples_leaf=0.2, clf__min_samples_split=0.05, clf__n_estimators=120 \n",
      "[CV]  clf__criterion=gini, clf__max_depth=5, clf__min_samples_leaf=0.2, clf__min_samples_split=0.05, clf__n_estimators=120, total=   3.1s\n",
      "[CV] clf__criterion=gini, clf__max_depth=5, clf__min_samples_leaf=0.2, clf__min_samples_split=0.1, clf__n_estimators=120 \n",
      "[CV]  clf__criterion=gini, clf__max_depth=5, clf__min_samples_leaf=0.2, clf__min_samples_split=0.1, clf__n_estimators=120, total=   3.8s\n",
      "[CV] clf__criterion=gini, clf__max_depth=5, clf__min_samples_leaf=0.2, clf__min_samples_split=0.1, clf__n_estimators=120 \n",
      "[CV]  clf__criterion=gini, clf__max_depth=5, clf__min_samples_leaf=0.2, clf__min_samples_split=0.1, clf__n_estimators=120, total=   3.0s\n",
      "[CV] clf__criterion=gini, clf__max_depth=5, clf__min_samples_leaf=0.2, clf__min_samples_split=0.1, clf__n_estimators=120 \n",
      "[CV]  clf__criterion=gini, clf__max_depth=5, clf__min_samples_leaf=0.2, clf__min_samples_split=0.1, clf__n_estimators=120, total=   2.9s\n",
      "[CV] clf__criterion=gini, clf__max_depth=5, clf__min_samples_leaf=0.2, clf__min_samples_split=0.2, clf__n_estimators=120 \n",
      "[CV]  clf__criterion=gini, clf__max_depth=5, clf__min_samples_leaf=0.2, clf__min_samples_split=0.2, clf__n_estimators=120, total=   2.7s\n",
      "[CV] clf__criterion=gini, clf__max_depth=5, clf__min_samples_leaf=0.2, clf__min_samples_split=0.2, clf__n_estimators=120 \n",
      "[CV]  clf__criterion=gini, clf__max_depth=5, clf__min_samples_leaf=0.2, clf__min_samples_split=0.2, clf__n_estimators=120, total=   2.8s\n",
      "[CV] clf__criterion=gini, clf__max_depth=5, clf__min_samples_leaf=0.2, clf__min_samples_split=0.2, clf__n_estimators=120 \n",
      "[CV]  clf__criterion=gini, clf__max_depth=5, clf__min_samples_leaf=0.2, clf__min_samples_split=0.2, clf__n_estimators=120, total=   2.7s\n",
      "[CV] clf__criterion=gini, clf__max_depth=6, clf__min_samples_leaf=0.05, clf__min_samples_split=0.05, clf__n_estimators=120 \n",
      "[CV]  clf__criterion=gini, clf__max_depth=6, clf__min_samples_leaf=0.05, clf__min_samples_split=0.05, clf__n_estimators=120, total=   6.0s\n",
      "[CV] clf__criterion=gini, clf__max_depth=6, clf__min_samples_leaf=0.05, clf__min_samples_split=0.05, clf__n_estimators=120 \n",
      "[CV]  clf__criterion=gini, clf__max_depth=6, clf__min_samples_leaf=0.05, clf__min_samples_split=0.05, clf__n_estimators=120, total=   6.0s\n",
      "[CV] clf__criterion=gini, clf__max_depth=6, clf__min_samples_leaf=0.05, clf__min_samples_split=0.05, clf__n_estimators=120 \n",
      "[CV]  clf__criterion=gini, clf__max_depth=6, clf__min_samples_leaf=0.05, clf__min_samples_split=0.05, clf__n_estimators=120, total=   5.8s\n",
      "[CV] clf__criterion=gini, clf__max_depth=6, clf__min_samples_leaf=0.05, clf__min_samples_split=0.1, clf__n_estimators=120 \n",
      "[CV]  clf__criterion=gini, clf__max_depth=6, clf__min_samples_leaf=0.05, clf__min_samples_split=0.1, clf__n_estimators=120, total=   5.9s\n",
      "[CV] clf__criterion=gini, clf__max_depth=6, clf__min_samples_leaf=0.05, clf__min_samples_split=0.1, clf__n_estimators=120 \n",
      "[CV]  clf__criterion=gini, clf__max_depth=6, clf__min_samples_leaf=0.05, clf__min_samples_split=0.1, clf__n_estimators=120, total=   5.7s\n",
      "[CV] clf__criterion=gini, clf__max_depth=6, clf__min_samples_leaf=0.05, clf__min_samples_split=0.1, clf__n_estimators=120 \n",
      "[CV]  clf__criterion=gini, clf__max_depth=6, clf__min_samples_leaf=0.05, clf__min_samples_split=0.1, clf__n_estimators=120, total=   6.0s\n",
      "[CV] clf__criterion=gini, clf__max_depth=6, clf__min_samples_leaf=0.05, clf__min_samples_split=0.2, clf__n_estimators=120 \n",
      "[CV]  clf__criterion=gini, clf__max_depth=6, clf__min_samples_leaf=0.05, clf__min_samples_split=0.2, clf__n_estimators=120, total=   4.8s\n",
      "[CV] clf__criterion=gini, clf__max_depth=6, clf__min_samples_leaf=0.05, clf__min_samples_split=0.2, clf__n_estimators=120 \n",
      "[CV]  clf__criterion=gini, clf__max_depth=6, clf__min_samples_leaf=0.05, clf__min_samples_split=0.2, clf__n_estimators=120, total=   4.7s\n",
      "[CV] clf__criterion=gini, clf__max_depth=6, clf__min_samples_leaf=0.05, clf__min_samples_split=0.2, clf__n_estimators=120 \n",
      "[CV]  clf__criterion=gini, clf__max_depth=6, clf__min_samples_leaf=0.05, clf__min_samples_split=0.2, clf__n_estimators=120, total=   5.0s\n",
      "[CV] clf__criterion=gini, clf__max_depth=6, clf__min_samples_leaf=0.1, clf__min_samples_split=0.05, clf__n_estimators=120 \n",
      "[CV]  clf__criterion=gini, clf__max_depth=6, clf__min_samples_leaf=0.1, clf__min_samples_split=0.05, clf__n_estimators=120, total=   4.1s\n",
      "[CV] clf__criterion=gini, clf__max_depth=6, clf__min_samples_leaf=0.1, clf__min_samples_split=0.05, clf__n_estimators=120 \n",
      "[CV]  clf__criterion=gini, clf__max_depth=6, clf__min_samples_leaf=0.1, clf__min_samples_split=0.05, clf__n_estimators=120, total=   4.1s\n",
      "[CV] clf__criterion=gini, clf__max_depth=6, clf__min_samples_leaf=0.1, clf__min_samples_split=0.05, clf__n_estimators=120 \n",
      "[CV]  clf__criterion=gini, clf__max_depth=6, clf__min_samples_leaf=0.1, clf__min_samples_split=0.05, clf__n_estimators=120, total=   4.3s\n",
      "[CV] clf__criterion=gini, clf__max_depth=6, clf__min_samples_leaf=0.1, clf__min_samples_split=0.1, clf__n_estimators=120 \n",
      "[CV]  clf__criterion=gini, clf__max_depth=6, clf__min_samples_leaf=0.1, clf__min_samples_split=0.1, clf__n_estimators=120, total=   4.3s\n",
      "[CV] clf__criterion=gini, clf__max_depth=6, clf__min_samples_leaf=0.1, clf__min_samples_split=0.1, clf__n_estimators=120 \n",
      "[CV]  clf__criterion=gini, clf__max_depth=6, clf__min_samples_leaf=0.1, clf__min_samples_split=0.1, clf__n_estimators=120, total=   4.3s\n",
      "[CV] clf__criterion=gini, clf__max_depth=6, clf__min_samples_leaf=0.1, clf__min_samples_split=0.1, clf__n_estimators=120 \n",
      "[CV]  clf__criterion=gini, clf__max_depth=6, clf__min_samples_leaf=0.1, clf__min_samples_split=0.1, clf__n_estimators=120, total=   4.2s\n",
      "[CV] clf__criterion=gini, clf__max_depth=6, clf__min_samples_leaf=0.1, clf__min_samples_split=0.2, clf__n_estimators=120 \n",
      "[CV]  clf__criterion=gini, clf__max_depth=6, clf__min_samples_leaf=0.1, clf__min_samples_split=0.2, clf__n_estimators=120, total=   4.3s\n",
      "[CV] clf__criterion=gini, clf__max_depth=6, clf__min_samples_leaf=0.1, clf__min_samples_split=0.2, clf__n_estimators=120 \n",
      "[CV]  clf__criterion=gini, clf__max_depth=6, clf__min_samples_leaf=0.1, clf__min_samples_split=0.2, clf__n_estimators=120, total=   4.1s\n",
      "[CV] clf__criterion=gini, clf__max_depth=6, clf__min_samples_leaf=0.1, clf__min_samples_split=0.2, clf__n_estimators=120 \n",
      "[CV]  clf__criterion=gini, clf__max_depth=6, clf__min_samples_leaf=0.1, clf__min_samples_split=0.2, clf__n_estimators=120, total=   4.1s\n",
      "[CV] clf__criterion=gini, clf__max_depth=6, clf__min_samples_leaf=0.2, clf__min_samples_split=0.05, clf__n_estimators=120 \n",
      "[CV]  clf__criterion=gini, clf__max_depth=6, clf__min_samples_leaf=0.2, clf__min_samples_split=0.05, clf__n_estimators=120, total=   2.8s\n",
      "[CV] clf__criterion=gini, clf__max_depth=6, clf__min_samples_leaf=0.2, clf__min_samples_split=0.05, clf__n_estimators=120 \n",
      "[CV]  clf__criterion=gini, clf__max_depth=6, clf__min_samples_leaf=0.2, clf__min_samples_split=0.05, clf__n_estimators=120, total=   2.8s\n",
      "[CV] clf__criterion=gini, clf__max_depth=6, clf__min_samples_leaf=0.2, clf__min_samples_split=0.05, clf__n_estimators=120 \n",
      "[CV]  clf__criterion=gini, clf__max_depth=6, clf__min_samples_leaf=0.2, clf__min_samples_split=0.05, clf__n_estimators=120, total=   2.7s\n",
      "[CV] clf__criterion=gini, clf__max_depth=6, clf__min_samples_leaf=0.2, clf__min_samples_split=0.1, clf__n_estimators=120 \n",
      "[CV]  clf__criterion=gini, clf__max_depth=6, clf__min_samples_leaf=0.2, clf__min_samples_split=0.1, clf__n_estimators=120, total=   2.7s\n",
      "[CV] clf__criterion=gini, clf__max_depth=6, clf__min_samples_leaf=0.2, clf__min_samples_split=0.1, clf__n_estimators=120 \n",
      "[CV]  clf__criterion=gini, clf__max_depth=6, clf__min_samples_leaf=0.2, clf__min_samples_split=0.1, clf__n_estimators=120, total=   2.8s\n",
      "[CV] clf__criterion=gini, clf__max_depth=6, clf__min_samples_leaf=0.2, clf__min_samples_split=0.1, clf__n_estimators=120 \n",
      "[CV]  clf__criterion=gini, clf__max_depth=6, clf__min_samples_leaf=0.2, clf__min_samples_split=0.1, clf__n_estimators=120, total=   2.7s\n",
      "[CV] clf__criterion=gini, clf__max_depth=6, clf__min_samples_leaf=0.2, clf__min_samples_split=0.2, clf__n_estimators=120 \n"
     ]
    },
    {
     "name": "stdout",
     "output_type": "stream",
     "text": [
      "[CV]  clf__criterion=gini, clf__max_depth=6, clf__min_samples_leaf=0.2, clf__min_samples_split=0.2, clf__n_estimators=120, total=   2.7s\n",
      "[CV] clf__criterion=gini, clf__max_depth=6, clf__min_samples_leaf=0.2, clf__min_samples_split=0.2, clf__n_estimators=120 \n",
      "[CV]  clf__criterion=gini, clf__max_depth=6, clf__min_samples_leaf=0.2, clf__min_samples_split=0.2, clf__n_estimators=120, total=   2.9s\n",
      "[CV] clf__criterion=gini, clf__max_depth=6, clf__min_samples_leaf=0.2, clf__min_samples_split=0.2, clf__n_estimators=120 \n",
      "[CV]  clf__criterion=gini, clf__max_depth=6, clf__min_samples_leaf=0.2, clf__min_samples_split=0.2, clf__n_estimators=120, total=   2.7s\n"
     ]
    },
    {
     "name": "stderr",
     "output_type": "stream",
     "text": [
      "[Parallel(n_jobs=1)]: Done 162 out of 162 | elapsed: 19.2min finished\n"
     ]
    },
    {
     "name": "stdout",
     "output_type": "stream",
     "text": [
      "Best accuracy: 0.617\n",
      "\n",
      "Best params:\n",
      " {'clf__criterion': 'gini', 'clf__max_depth': 6, 'clf__min_samples_leaf': 0.05, 'clf__min_samples_split': 0.1, 'clf__n_estimators': 120}\n"
     ]
    }
   ],
   "source": [
    "# Your code here\n",
    "# ⏰ This cell may take a long time to run!\n",
    "pipe_rf = Pipeline([('pca', PCA(n_components = 27)),\n",
    "                     ('clf', RandomForestClassifier(random_state=42))])\n",
    "# Set grid search params\n",
    "param_grid_forest = [ \n",
    "  {'clf__n_estimators': [120],\n",
    "   'clf__criterion': ['entropy', 'gini'], \n",
    "   'clf__max_depth': [4, 5, 6],  \n",
    "   'clf__min_samples_leaf':[0.05 ,0.1, 0.2],  \n",
    "   'clf__min_samples_split':[0.05 ,0.1, 0.2]\n",
    "  }\n",
    "]\n",
    "\n",
    "# Construct grid search\n",
    "gs_rf = GridSearchCV(estimator=pipe_rf, \n",
    "                     param_grid=param_grid_forest, \n",
    "                     scoring='accuracy', \n",
    "                     cv=3, verbose=2, return_train_score = True)\n",
    "\n",
    "# Fit using grid search\n",
    "gs_rf.fit(X_train, y_train)\n",
    "\n",
    "# Best accuracy\n",
    "print('Best accuracy: %.3f' % gs_rf.best_score_)\n",
    "\n",
    "# Best params\n",
    "print('\\nBest params:\\n', gs_rf.best_params_)"
   ]
  },
  {
   "cell_type": "markdown",
   "metadata": {},
   "source": [
    "Use your grid search object along with `.cv_results` to get the full result overview"
   ]
  },
  {
   "cell_type": "code",
   "execution_count": 37,
   "metadata": {
    "scrolled": false
   },
   "outputs": [
    {
     "data": {
      "text/plain": [
       "{'mean_fit_time': array([13.67094723, 13.38022319, 12.46307731,  8.82307585,  9.22666128,\n",
       "         9.14753938,  4.46707122,  4.39757355,  4.30151685, 14.66944114,\n",
       "        14.93907571, 13.52483575,  8.21569784,  8.59370828,  8.66517798,\n",
       "         4.2465895 ,  4.13594127,  4.1000402 , 14.38572574, 14.24193128,\n",
       "        14.88353507,  8.31510051,  8.0906984 ,  7.84169888,  3.76726087,\n",
       "         3.70841797,  3.74597232,  5.61236278,  5.4701426 ,  4.93268402,\n",
       "         4.26758838,  4.18514212,  4.25296617,  2.94812878,  2.8068525 ,\n",
       "         2.61932906,  5.73624007,  5.69211459,  4.92250594,  4.27390504,\n",
       "         4.03079661,  4.25096774,  2.81713478,  3.08875259,  2.59705567,\n",
       "         5.72834961,  5.69835345,  4.67616351,  4.00396045,  4.07795183,\n",
       "         4.00695451,  2.60603062,  2.57910673,  2.6183339 ]),\n",
       " 'std_fit_time': array([1.04575281, 0.86597315, 0.09606617, 0.06008311, 0.42959742,\n",
       "        0.06884397, 0.17458716, 0.18767321, 0.08685157, 0.18695613,\n",
       "        0.20557625, 0.92531946, 0.24294065, 0.48089326, 0.17803437,\n",
       "        0.16300746, 0.02191079, 0.05750528, 0.23672421, 0.14347307,\n",
       "        0.5724809 , 0.22820223, 0.36819895, 0.07388585, 0.08699828,\n",
       "        0.0361375 , 0.12076054, 0.0619039 , 0.10855653, 0.15053356,\n",
       "        0.02684713, 0.06592707, 0.11972054, 0.05410773, 0.03434395,\n",
       "        0.03425356, 0.07919556, 0.08033503, 0.22569024, 0.06617054,\n",
       "        0.11606422, 0.32436807, 0.04441137, 0.39596677, 0.01525471,\n",
       "        0.072945  , 0.10555342, 0.1361891 , 0.11546822, 0.0587193 ,\n",
       "        0.08255016, 0.02831404, 0.02051593, 0.09748816]),\n",
       " 'mean_score_time': array([0.19015869, 0.22906478, 0.22174064, 0.23371363, 0.26728479,\n",
       "        0.21344034, 0.25198356, 0.23221151, 0.19414592, 0.23835961,\n",
       "        0.2290318 , 0.21475903, 0.16521358, 0.19246364, 0.23766931,\n",
       "        0.19446945, 0.21310274, 0.19913554, 0.22968856, 0.2247134 ,\n",
       "        0.24766588, 0.16821607, 0.17587694, 0.17586303, 0.15926226,\n",
       "        0.16124908, 0.15924128, 0.20578194, 0.17320053, 0.18516954,\n",
       "        0.19580921, 0.19015821, 0.18881377, 0.1904788 , 0.1794947 ,\n",
       "        0.15026482, 0.177857  , 0.18184614, 0.189159  , 0.19879031,\n",
       "        0.16622146, 0.21774952, 0.21077013, 0.16554523, 0.15458639,\n",
       "        0.18783077, 0.17917498, 0.16521287, 0.16191141, 0.15892839,\n",
       "        0.15860113, 0.16455921, 0.15026569, 0.14993064]),\n",
       " 'std_score_time': array([0.03007925, 0.03725227, 0.00308485, 0.0275701 , 0.06918837,\n",
       "        0.00452014, 0.06020609, 0.02994278, 0.0117823 , 0.0103939 ,\n",
       "        0.00329054, 0.00094117, 0.00046147, 0.01918949, 0.0421149 ,\n",
       "        0.01466484, 0.03502381, 0.00622366, 0.00680341, 0.01018459,\n",
       "        0.0385167 , 0.00611271, 0.00632115, 0.0024884 , 0.00476682,\n",
       "        0.00448457, 0.00046957, 0.02361966, 0.00385025, 0.00782472,\n",
       "        0.02263001, 0.00790951, 0.0037515 , 0.01938538, 0.01723909,\n",
       "        0.00417843, 0.00738834, 0.01225039, 0.02324016, 0.03877445,\n",
       "        0.00448406, 0.06547683, 0.01579703, 0.00803178, 0.00081469,\n",
       "        0.01541486, 0.00125965, 0.00620328, 0.00284733, 0.00339473,\n",
       "        0.0029318 , 0.03032816, 0.00448482, 0.0098509 ]),\n",
       " 'param_clf__criterion': masked_array(data=['entropy', 'entropy', 'entropy', 'entropy', 'entropy',\n",
       "                    'entropy', 'entropy', 'entropy', 'entropy', 'entropy',\n",
       "                    'entropy', 'entropy', 'entropy', 'entropy', 'entropy',\n",
       "                    'entropy', 'entropy', 'entropy', 'entropy', 'entropy',\n",
       "                    'entropy', 'entropy', 'entropy', 'entropy', 'entropy',\n",
       "                    'entropy', 'entropy', 'gini', 'gini', 'gini', 'gini',\n",
       "                    'gini', 'gini', 'gini', 'gini', 'gini', 'gini', 'gini',\n",
       "                    'gini', 'gini', 'gini', 'gini', 'gini', 'gini', 'gini',\n",
       "                    'gini', 'gini', 'gini', 'gini', 'gini', 'gini', 'gini',\n",
       "                    'gini', 'gini'],\n",
       "              mask=[False, False, False, False, False, False, False, False,\n",
       "                    False, False, False, False, False, False, False, False,\n",
       "                    False, False, False, False, False, False, False, False,\n",
       "                    False, False, False, False, False, False, False, False,\n",
       "                    False, False, False, False, False, False, False, False,\n",
       "                    False, False, False, False, False, False, False, False,\n",
       "                    False, False, False, False, False, False],\n",
       "        fill_value='?',\n",
       "             dtype=object),\n",
       " 'param_clf__max_depth': masked_array(data=[4, 4, 4, 4, 4, 4, 4, 4, 4, 5, 5, 5, 5, 5, 5, 5, 5, 5,\n",
       "                    6, 6, 6, 6, 6, 6, 6, 6, 6, 4, 4, 4, 4, 4, 4, 4, 4, 4,\n",
       "                    5, 5, 5, 5, 5, 5, 5, 5, 5, 6, 6, 6, 6, 6, 6, 6, 6, 6],\n",
       "              mask=[False, False, False, False, False, False, False, False,\n",
       "                    False, False, False, False, False, False, False, False,\n",
       "                    False, False, False, False, False, False, False, False,\n",
       "                    False, False, False, False, False, False, False, False,\n",
       "                    False, False, False, False, False, False, False, False,\n",
       "                    False, False, False, False, False, False, False, False,\n",
       "                    False, False, False, False, False, False],\n",
       "        fill_value='?',\n",
       "             dtype=object),\n",
       " 'param_clf__min_samples_leaf': masked_array(data=[0.05, 0.05, 0.05, 0.1, 0.1, 0.1, 0.2, 0.2, 0.2, 0.05,\n",
       "                    0.05, 0.05, 0.1, 0.1, 0.1, 0.2, 0.2, 0.2, 0.05, 0.05,\n",
       "                    0.05, 0.1, 0.1, 0.1, 0.2, 0.2, 0.2, 0.05, 0.05, 0.05,\n",
       "                    0.1, 0.1, 0.1, 0.2, 0.2, 0.2, 0.05, 0.05, 0.05, 0.1,\n",
       "                    0.1, 0.1, 0.2, 0.2, 0.2, 0.05, 0.05, 0.05, 0.1, 0.1,\n",
       "                    0.1, 0.2, 0.2, 0.2],\n",
       "              mask=[False, False, False, False, False, False, False, False,\n",
       "                    False, False, False, False, False, False, False, False,\n",
       "                    False, False, False, False, False, False, False, False,\n",
       "                    False, False, False, False, False, False, False, False,\n",
       "                    False, False, False, False, False, False, False, False,\n",
       "                    False, False, False, False, False, False, False, False,\n",
       "                    False, False, False, False, False, False],\n",
       "        fill_value='?',\n",
       "             dtype=object),\n",
       " 'param_clf__min_samples_split': masked_array(data=[0.05, 0.1, 0.2, 0.05, 0.1, 0.2, 0.05, 0.1, 0.2, 0.05,\n",
       "                    0.1, 0.2, 0.05, 0.1, 0.2, 0.05, 0.1, 0.2, 0.05, 0.1,\n",
       "                    0.2, 0.05, 0.1, 0.2, 0.05, 0.1, 0.2, 0.05, 0.1, 0.2,\n",
       "                    0.05, 0.1, 0.2, 0.05, 0.1, 0.2, 0.05, 0.1, 0.2, 0.05,\n",
       "                    0.1, 0.2, 0.05, 0.1, 0.2, 0.05, 0.1, 0.2, 0.05, 0.1,\n",
       "                    0.2, 0.05, 0.1, 0.2],\n",
       "              mask=[False, False, False, False, False, False, False, False,\n",
       "                    False, False, False, False, False, False, False, False,\n",
       "                    False, False, False, False, False, False, False, False,\n",
       "                    False, False, False, False, False, False, False, False,\n",
       "                    False, False, False, False, False, False, False, False,\n",
       "                    False, False, False, False, False, False, False, False,\n",
       "                    False, False, False, False, False, False],\n",
       "        fill_value='?',\n",
       "             dtype=object),\n",
       " 'param_clf__n_estimators': masked_array(data=[120, 120, 120, 120, 120, 120, 120, 120, 120, 120, 120,\n",
       "                    120, 120, 120, 120, 120, 120, 120, 120, 120, 120, 120,\n",
       "                    120, 120, 120, 120, 120, 120, 120, 120, 120, 120, 120,\n",
       "                    120, 120, 120, 120, 120, 120, 120, 120, 120, 120, 120,\n",
       "                    120, 120, 120, 120, 120, 120, 120, 120, 120, 120],\n",
       "              mask=[False, False, False, False, False, False, False, False,\n",
       "                    False, False, False, False, False, False, False, False,\n",
       "                    False, False, False, False, False, False, False, False,\n",
       "                    False, False, False, False, False, False, False, False,\n",
       "                    False, False, False, False, False, False, False, False,\n",
       "                    False, False, False, False, False, False, False, False,\n",
       "                    False, False, False, False, False, False],\n",
       "        fill_value='?',\n",
       "             dtype=object),\n",
       " 'params': [{'clf__criterion': 'entropy',\n",
       "   'clf__max_depth': 4,\n",
       "   'clf__min_samples_leaf': 0.05,\n",
       "   'clf__min_samples_split': 0.05,\n",
       "   'clf__n_estimators': 120},\n",
       "  {'clf__criterion': 'entropy',\n",
       "   'clf__max_depth': 4,\n",
       "   'clf__min_samples_leaf': 0.05,\n",
       "   'clf__min_samples_split': 0.1,\n",
       "   'clf__n_estimators': 120},\n",
       "  {'clf__criterion': 'entropy',\n",
       "   'clf__max_depth': 4,\n",
       "   'clf__min_samples_leaf': 0.05,\n",
       "   'clf__min_samples_split': 0.2,\n",
       "   'clf__n_estimators': 120},\n",
       "  {'clf__criterion': 'entropy',\n",
       "   'clf__max_depth': 4,\n",
       "   'clf__min_samples_leaf': 0.1,\n",
       "   'clf__min_samples_split': 0.05,\n",
       "   'clf__n_estimators': 120},\n",
       "  {'clf__criterion': 'entropy',\n",
       "   'clf__max_depth': 4,\n",
       "   'clf__min_samples_leaf': 0.1,\n",
       "   'clf__min_samples_split': 0.1,\n",
       "   'clf__n_estimators': 120},\n",
       "  {'clf__criterion': 'entropy',\n",
       "   'clf__max_depth': 4,\n",
       "   'clf__min_samples_leaf': 0.1,\n",
       "   'clf__min_samples_split': 0.2,\n",
       "   'clf__n_estimators': 120},\n",
       "  {'clf__criterion': 'entropy',\n",
       "   'clf__max_depth': 4,\n",
       "   'clf__min_samples_leaf': 0.2,\n",
       "   'clf__min_samples_split': 0.05,\n",
       "   'clf__n_estimators': 120},\n",
       "  {'clf__criterion': 'entropy',\n",
       "   'clf__max_depth': 4,\n",
       "   'clf__min_samples_leaf': 0.2,\n",
       "   'clf__min_samples_split': 0.1,\n",
       "   'clf__n_estimators': 120},\n",
       "  {'clf__criterion': 'entropy',\n",
       "   'clf__max_depth': 4,\n",
       "   'clf__min_samples_leaf': 0.2,\n",
       "   'clf__min_samples_split': 0.2,\n",
       "   'clf__n_estimators': 120},\n",
       "  {'clf__criterion': 'entropy',\n",
       "   'clf__max_depth': 5,\n",
       "   'clf__min_samples_leaf': 0.05,\n",
       "   'clf__min_samples_split': 0.05,\n",
       "   'clf__n_estimators': 120},\n",
       "  {'clf__criterion': 'entropy',\n",
       "   'clf__max_depth': 5,\n",
       "   'clf__min_samples_leaf': 0.05,\n",
       "   'clf__min_samples_split': 0.1,\n",
       "   'clf__n_estimators': 120},\n",
       "  {'clf__criterion': 'entropy',\n",
       "   'clf__max_depth': 5,\n",
       "   'clf__min_samples_leaf': 0.05,\n",
       "   'clf__min_samples_split': 0.2,\n",
       "   'clf__n_estimators': 120},\n",
       "  {'clf__criterion': 'entropy',\n",
       "   'clf__max_depth': 5,\n",
       "   'clf__min_samples_leaf': 0.1,\n",
       "   'clf__min_samples_split': 0.05,\n",
       "   'clf__n_estimators': 120},\n",
       "  {'clf__criterion': 'entropy',\n",
       "   'clf__max_depth': 5,\n",
       "   'clf__min_samples_leaf': 0.1,\n",
       "   'clf__min_samples_split': 0.1,\n",
       "   'clf__n_estimators': 120},\n",
       "  {'clf__criterion': 'entropy',\n",
       "   'clf__max_depth': 5,\n",
       "   'clf__min_samples_leaf': 0.1,\n",
       "   'clf__min_samples_split': 0.2,\n",
       "   'clf__n_estimators': 120},\n",
       "  {'clf__criterion': 'entropy',\n",
       "   'clf__max_depth': 5,\n",
       "   'clf__min_samples_leaf': 0.2,\n",
       "   'clf__min_samples_split': 0.05,\n",
       "   'clf__n_estimators': 120},\n",
       "  {'clf__criterion': 'entropy',\n",
       "   'clf__max_depth': 5,\n",
       "   'clf__min_samples_leaf': 0.2,\n",
       "   'clf__min_samples_split': 0.1,\n",
       "   'clf__n_estimators': 120},\n",
       "  {'clf__criterion': 'entropy',\n",
       "   'clf__max_depth': 5,\n",
       "   'clf__min_samples_leaf': 0.2,\n",
       "   'clf__min_samples_split': 0.2,\n",
       "   'clf__n_estimators': 120},\n",
       "  {'clf__criterion': 'entropy',\n",
       "   'clf__max_depth': 6,\n",
       "   'clf__min_samples_leaf': 0.05,\n",
       "   'clf__min_samples_split': 0.05,\n",
       "   'clf__n_estimators': 120},\n",
       "  {'clf__criterion': 'entropy',\n",
       "   'clf__max_depth': 6,\n",
       "   'clf__min_samples_leaf': 0.05,\n",
       "   'clf__min_samples_split': 0.1,\n",
       "   'clf__n_estimators': 120},\n",
       "  {'clf__criterion': 'entropy',\n",
       "   'clf__max_depth': 6,\n",
       "   'clf__min_samples_leaf': 0.05,\n",
       "   'clf__min_samples_split': 0.2,\n",
       "   'clf__n_estimators': 120},\n",
       "  {'clf__criterion': 'entropy',\n",
       "   'clf__max_depth': 6,\n",
       "   'clf__min_samples_leaf': 0.1,\n",
       "   'clf__min_samples_split': 0.05,\n",
       "   'clf__n_estimators': 120},\n",
       "  {'clf__criterion': 'entropy',\n",
       "   'clf__max_depth': 6,\n",
       "   'clf__min_samples_leaf': 0.1,\n",
       "   'clf__min_samples_split': 0.1,\n",
       "   'clf__n_estimators': 120},\n",
       "  {'clf__criterion': 'entropy',\n",
       "   'clf__max_depth': 6,\n",
       "   'clf__min_samples_leaf': 0.1,\n",
       "   'clf__min_samples_split': 0.2,\n",
       "   'clf__n_estimators': 120},\n",
       "  {'clf__criterion': 'entropy',\n",
       "   'clf__max_depth': 6,\n",
       "   'clf__min_samples_leaf': 0.2,\n",
       "   'clf__min_samples_split': 0.05,\n",
       "   'clf__n_estimators': 120},\n",
       "  {'clf__criterion': 'entropy',\n",
       "   'clf__max_depth': 6,\n",
       "   'clf__min_samples_leaf': 0.2,\n",
       "   'clf__min_samples_split': 0.1,\n",
       "   'clf__n_estimators': 120},\n",
       "  {'clf__criterion': 'entropy',\n",
       "   'clf__max_depth': 6,\n",
       "   'clf__min_samples_leaf': 0.2,\n",
       "   'clf__min_samples_split': 0.2,\n",
       "   'clf__n_estimators': 120},\n",
       "  {'clf__criterion': 'gini',\n",
       "   'clf__max_depth': 4,\n",
       "   'clf__min_samples_leaf': 0.05,\n",
       "   'clf__min_samples_split': 0.05,\n",
       "   'clf__n_estimators': 120},\n",
       "  {'clf__criterion': 'gini',\n",
       "   'clf__max_depth': 4,\n",
       "   'clf__min_samples_leaf': 0.05,\n",
       "   'clf__min_samples_split': 0.1,\n",
       "   'clf__n_estimators': 120},\n",
       "  {'clf__criterion': 'gini',\n",
       "   'clf__max_depth': 4,\n",
       "   'clf__min_samples_leaf': 0.05,\n",
       "   'clf__min_samples_split': 0.2,\n",
       "   'clf__n_estimators': 120},\n",
       "  {'clf__criterion': 'gini',\n",
       "   'clf__max_depth': 4,\n",
       "   'clf__min_samples_leaf': 0.1,\n",
       "   'clf__min_samples_split': 0.05,\n",
       "   'clf__n_estimators': 120},\n",
       "  {'clf__criterion': 'gini',\n",
       "   'clf__max_depth': 4,\n",
       "   'clf__min_samples_leaf': 0.1,\n",
       "   'clf__min_samples_split': 0.1,\n",
       "   'clf__n_estimators': 120},\n",
       "  {'clf__criterion': 'gini',\n",
       "   'clf__max_depth': 4,\n",
       "   'clf__min_samples_leaf': 0.1,\n",
       "   'clf__min_samples_split': 0.2,\n",
       "   'clf__n_estimators': 120},\n",
       "  {'clf__criterion': 'gini',\n",
       "   'clf__max_depth': 4,\n",
       "   'clf__min_samples_leaf': 0.2,\n",
       "   'clf__min_samples_split': 0.05,\n",
       "   'clf__n_estimators': 120},\n",
       "  {'clf__criterion': 'gini',\n",
       "   'clf__max_depth': 4,\n",
       "   'clf__min_samples_leaf': 0.2,\n",
       "   'clf__min_samples_split': 0.1,\n",
       "   'clf__n_estimators': 120},\n",
       "  {'clf__criterion': 'gini',\n",
       "   'clf__max_depth': 4,\n",
       "   'clf__min_samples_leaf': 0.2,\n",
       "   'clf__min_samples_split': 0.2,\n",
       "   'clf__n_estimators': 120},\n",
       "  {'clf__criterion': 'gini',\n",
       "   'clf__max_depth': 5,\n",
       "   'clf__min_samples_leaf': 0.05,\n",
       "   'clf__min_samples_split': 0.05,\n",
       "   'clf__n_estimators': 120},\n",
       "  {'clf__criterion': 'gini',\n",
       "   'clf__max_depth': 5,\n",
       "   'clf__min_samples_leaf': 0.05,\n",
       "   'clf__min_samples_split': 0.1,\n",
       "   'clf__n_estimators': 120},\n",
       "  {'clf__criterion': 'gini',\n",
       "   'clf__max_depth': 5,\n",
       "   'clf__min_samples_leaf': 0.05,\n",
       "   'clf__min_samples_split': 0.2,\n",
       "   'clf__n_estimators': 120},\n",
       "  {'clf__criterion': 'gini',\n",
       "   'clf__max_depth': 5,\n",
       "   'clf__min_samples_leaf': 0.1,\n",
       "   'clf__min_samples_split': 0.05,\n",
       "   'clf__n_estimators': 120},\n",
       "  {'clf__criterion': 'gini',\n",
       "   'clf__max_depth': 5,\n",
       "   'clf__min_samples_leaf': 0.1,\n",
       "   'clf__min_samples_split': 0.1,\n",
       "   'clf__n_estimators': 120},\n",
       "  {'clf__criterion': 'gini',\n",
       "   'clf__max_depth': 5,\n",
       "   'clf__min_samples_leaf': 0.1,\n",
       "   'clf__min_samples_split': 0.2,\n",
       "   'clf__n_estimators': 120},\n",
       "  {'clf__criterion': 'gini',\n",
       "   'clf__max_depth': 5,\n",
       "   'clf__min_samples_leaf': 0.2,\n",
       "   'clf__min_samples_split': 0.05,\n",
       "   'clf__n_estimators': 120},\n",
       "  {'clf__criterion': 'gini',\n",
       "   'clf__max_depth': 5,\n",
       "   'clf__min_samples_leaf': 0.2,\n",
       "   'clf__min_samples_split': 0.1,\n",
       "   'clf__n_estimators': 120},\n",
       "  {'clf__criterion': 'gini',\n",
       "   'clf__max_depth': 5,\n",
       "   'clf__min_samples_leaf': 0.2,\n",
       "   'clf__min_samples_split': 0.2,\n",
       "   'clf__n_estimators': 120},\n",
       "  {'clf__criterion': 'gini',\n",
       "   'clf__max_depth': 6,\n",
       "   'clf__min_samples_leaf': 0.05,\n",
       "   'clf__min_samples_split': 0.05,\n",
       "   'clf__n_estimators': 120},\n",
       "  {'clf__criterion': 'gini',\n",
       "   'clf__max_depth': 6,\n",
       "   'clf__min_samples_leaf': 0.05,\n",
       "   'clf__min_samples_split': 0.1,\n",
       "   'clf__n_estimators': 120},\n",
       "  {'clf__criterion': 'gini',\n",
       "   'clf__max_depth': 6,\n",
       "   'clf__min_samples_leaf': 0.05,\n",
       "   'clf__min_samples_split': 0.2,\n",
       "   'clf__n_estimators': 120},\n",
       "  {'clf__criterion': 'gini',\n",
       "   'clf__max_depth': 6,\n",
       "   'clf__min_samples_leaf': 0.1,\n",
       "   'clf__min_samples_split': 0.05,\n",
       "   'clf__n_estimators': 120},\n",
       "  {'clf__criterion': 'gini',\n",
       "   'clf__max_depth': 6,\n",
       "   'clf__min_samples_leaf': 0.1,\n",
       "   'clf__min_samples_split': 0.1,\n",
       "   'clf__n_estimators': 120},\n",
       "  {'clf__criterion': 'gini',\n",
       "   'clf__max_depth': 6,\n",
       "   'clf__min_samples_leaf': 0.1,\n",
       "   'clf__min_samples_split': 0.2,\n",
       "   'clf__n_estimators': 120},\n",
       "  {'clf__criterion': 'gini',\n",
       "   'clf__max_depth': 6,\n",
       "   'clf__min_samples_leaf': 0.2,\n",
       "   'clf__min_samples_split': 0.05,\n",
       "   'clf__n_estimators': 120},\n",
       "  {'clf__criterion': 'gini',\n",
       "   'clf__max_depth': 6,\n",
       "   'clf__min_samples_leaf': 0.2,\n",
       "   'clf__min_samples_split': 0.1,\n",
       "   'clf__n_estimators': 120},\n",
       "  {'clf__criterion': 'gini',\n",
       "   'clf__max_depth': 6,\n",
       "   'clf__min_samples_leaf': 0.2,\n",
       "   'clf__min_samples_split': 0.2,\n",
       "   'clf__n_estimators': 120}],\n",
       " 'split0_test_score': array([0.60496122, 0.6039108 , 0.55349063, 0.50832256, 0.50808016,\n",
       "        0.50840336, 0.45216548, 0.45151907, 0.45240789, 0.61134454,\n",
       "        0.61158694, 0.55155139, 0.50880737, 0.50783775, 0.50727214,\n",
       "        0.45265029, 0.45135747, 0.45159987, 0.61029412, 0.61094053,\n",
       "        0.55163219, 0.50816096, 0.5105042 , 0.50573691, 0.45135747,\n",
       "        0.45135747, 0.45119586, 0.60673885, 0.60665805, 0.54654169,\n",
       "        0.51430187, 0.5155139 , 0.51616031, 0.45111506, 0.45111506,\n",
       "        0.45135747, 0.61716225, 0.61578862, 0.55332902, 0.51502909,\n",
       "        0.51599871, 0.51672592, 0.45168067, 0.45176147, 0.45143827,\n",
       "        0.61910149, 0.61797027, 0.55090498, 0.51494829, 0.51753394,\n",
       "        0.51712993, 0.45168067, 0.45143827, 0.45168067]),\n",
       " 'split1_test_score': array([0.61438384, 0.61349495, 0.54876768, 0.49624242, 0.49519192,\n",
       "        0.49519192, 0.43927273, 0.43927273, 0.43951515, 0.61680808,\n",
       "        0.6180202 , 0.55272727, 0.49494949, 0.49616162, 0.49567677,\n",
       "        0.43967677, 0.43927273, 0.43975758, 0.61818182, 0.61874747,\n",
       "        0.55749495, 0.49672727, 0.49648485, 0.49624242, 0.43951515,\n",
       "        0.43911111, 0.43967677, 0.59644444, 0.59781818, 0.53543434,\n",
       "        0.49551515, 0.49640404, 0.49527273, 0.43983838, 0.44016162,\n",
       "        0.44      , 0.60832323, 0.60864646, 0.54028283, 0.49616162,\n",
       "        0.49583838, 0.49559596, 0.44024242, 0.43983838, 0.44      ,\n",
       "        0.6100202 , 0.6109899 , 0.54125253, 0.49511111, 0.49608081,\n",
       "        0.49705051, 0.44056566, 0.44      , 0.43975758]),\n",
       " 'split2_test_score': array([0.60872727, 0.61058586, 0.54876768, 0.52856566, 0.52816162,\n",
       "        0.52848485, 0.4509899 , 0.4509899 , 0.45082828, 0.61422222,\n",
       "        0.61333333, 0.55135354, 0.52856566, 0.52759596, 0.52767677,\n",
       "        0.45042424, 0.4509899 , 0.45155556, 0.61745455, 0.61721212,\n",
       "        0.54763636, 0.52880808, 0.5270303 , 0.52646465, 0.45131313,\n",
       "        0.45131313, 0.45115152, 0.59886869, 0.59410101, 0.54828283,\n",
       "        0.52379798, 0.52315152, 0.52145455, 0.43781818, 0.43781818,\n",
       "        0.4379798 , 0.61850505, 0.61551515, 0.55684848, 0.52266667,\n",
       "        0.52533333, 0.52282828, 0.43781818, 0.43773737, 0.43789899,\n",
       "        0.62036364, 0.62068687, 0.55822222, 0.52274747, 0.52210101,\n",
       "        0.52193939, 0.43773737, 0.4379798 , 0.43773737]),\n",
       " 'mean_test_score': array([0.60935744, 0.60933053, 0.55034199, 0.51104355, 0.5104779 ,\n",
       "        0.51069338, 0.44747604, 0.44726057, 0.44758377, 0.61412495,\n",
       "        0.61431349, 0.5518774 , 0.51077417, 0.51053178, 0.51020856,\n",
       "        0.44758377, 0.4472067 , 0.44763767, 0.61531016, 0.61563338,\n",
       "        0.5522545 , 0.5112321 , 0.51133978, 0.50948133, 0.44739525,\n",
       "        0.44726057, 0.44734138, 0.60068399, 0.59952575, 0.54341962,\n",
       "        0.511205  , 0.51168982, 0.51096253, 0.44292388, 0.44303162,\n",
       "        0.44311242, 0.61466351, 0.61331675, 0.55015345, 0.51128579,\n",
       "        0.51239014, 0.51171672, 0.44324709, 0.44311241, 0.44311242,\n",
       "        0.61649511, 0.61654901, 0.55012657, 0.51093562, 0.51190525,\n",
       "        0.51203994, 0.4433279 , 0.44313936, 0.44305854]),\n",
       " 'std_test_score': array([0.00387249, 0.00401214, 0.00222642, 0.01333543, 0.01356619,\n",
       "        0.0136879 , 0.00582044, 0.00565238, 0.00574171, 0.00223154,\n",
       "        0.00271628, 0.00060636, 0.01379403, 0.01297364, 0.01322792,\n",
       "        0.00566447, 0.00561217, 0.0055721 , 0.00355928, 0.00337702,\n",
       "        0.00404873, 0.01327576, 0.01248412, 0.01261906, 0.0055721 ,\n",
       "        0.00576257, 0.00541973, 0.00439433, 0.00526666, 0.00569101,\n",
       "        0.01175224, 0.01124943, 0.01130294, 0.00585047, 0.00579537,\n",
       "        0.00588817, 0.00451665, 0.00330427, 0.00712594, 0.01113968,\n",
       "        0.01230865, 0.01166816, 0.00604501, 0.00617567, 0.00594942,\n",
       "        0.00460735, 0.00408434, 0.00694968, 0.01163381, 0.01134385,\n",
       "        0.01077946, 0.00601811, 0.00592589, 0.0061523 ]),\n",
       " 'rank_test_score': array([ 9, 10, 15, 28, 34, 32, 40, 44, 38,  7,  6, 14, 31, 33, 35, 39, 45,\n",
       "        37,  4,  3, 13, 26, 24, 36, 41, 43, 42, 11, 12, 18, 27, 23, 29, 54,\n",
       "        53, 49,  5,  8, 16, 25, 19, 22, 47, 51, 50,  2,  1, 17, 30, 21, 20,\n",
       "        46, 48, 52]),\n",
       " 'split0_train_score': array([0.60852525, 0.60856566, 0.55911111, 0.51288889, 0.51212121,\n",
       "        0.51260606, 0.45127273, 0.45086869, 0.45131313, 0.61575758,\n",
       "        0.61575758, 0.55737374, 0.51260606, 0.51228283, 0.51216162,\n",
       "        0.45155556, 0.4509899 , 0.45107071, 0.61523232, 0.6140202 ,\n",
       "        0.55777778, 0.51232323, 0.51438384, 0.51155556, 0.45115152,\n",
       "        0.45078788, 0.45070707, 0.60905051, 0.60759596, 0.55159596,\n",
       "        0.5169697 , 0.51733333, 0.51818182, 0.45054545, 0.45070707,\n",
       "        0.45111111, 0.61753535, 0.61648485, 0.55749495, 0.51692929,\n",
       "        0.51830303, 0.51951515, 0.4510303 , 0.45094949, 0.45086869,\n",
       "        0.61874747, 0.6190303 , 0.55478788, 0.51822222, 0.51955556,\n",
       "        0.51947475, 0.45086869, 0.45070707, 0.45086869]),\n",
       " 'split1_train_score': array([0.61589431, 0.61435902, 0.55209891, 0.4982829 , 0.49804048,\n",
       "        0.49715163, 0.44087108, 0.44079027, 0.44103269, 0.61880328,\n",
       "        0.61985374, 0.55585633, 0.49759606, 0.49860612, 0.4982829 ,\n",
       "        0.44107309, 0.44091148, 0.44083067, 0.61900529, 0.61961133,\n",
       "        0.55904812, 0.49864652, 0.49880813, 0.49880813, 0.44083067,\n",
       "        0.44107309, 0.4412347 , 0.59856167, 0.59953133, 0.53626116,\n",
       "        0.49707083, 0.49690922, 0.49694962, 0.44159832, 0.4413155 ,\n",
       "        0.44155792, 0.61140964, 0.61116723, 0.54236192, 0.49686881,\n",
       "        0.49739404, 0.49694962, 0.44163872, 0.44155792, 0.44139631,\n",
       "        0.61322775, 0.61286413, 0.54337198, 0.49585875, 0.49638398,\n",
       "        0.49711123, 0.44175993, 0.44155792, 0.44151751]),\n",
       " 'split2_train_score': array([0.60878348, 0.6090663 , 0.54813947, 0.52527171, 0.52454446,\n",
       "        0.52498889, 0.44951719, 0.44939598, 0.44947679, 0.61355097,\n",
       "        0.61326815, 0.55104844, 0.52486768, 0.52365561, 0.52329199,\n",
       "        0.44935558, 0.44955759, 0.45016363, 0.61645994, 0.6158539 ,\n",
       "        0.54757384, 0.52486768, 0.52357481, 0.52369601, 0.45020403,\n",
       "        0.449598  , 0.4496384 , 0.60252111, 0.59884449, 0.54983637,\n",
       "        0.52167589, 0.52151428, 0.5185245 , 0.43723486, 0.43715405,\n",
       "        0.43727526, 0.62142944, 0.61965173, 0.55811886, 0.52042342,\n",
       "        0.52224153, 0.52074664, 0.43723486, 0.43715405, 0.43731566,\n",
       "        0.62288392, 0.62316674, 0.55973496, 0.52098905, 0.52034261,\n",
       "        0.52159509, 0.43711365, 0.43723486, 0.43731566]),\n",
       " 'mean_train_score': array([0.61106768, 0.61066366, 0.5531165 , 0.51214783, 0.51156872,\n",
       "        0.51158219, 0.44722033, 0.44701831, 0.4472742 , 0.61603727,\n",
       "        0.61629316, 0.5547595 , 0.51168993, 0.51151485, 0.5112455 ,\n",
       "        0.44732808, 0.44715299, 0.447355  , 0.61689919, 0.61649515,\n",
       "        0.55479991, 0.51194581, 0.51225559, 0.51135323, 0.44739541,\n",
       "        0.44715299, 0.44719339, 0.60337776, 0.60199059, 0.54589783,\n",
       "        0.51190547, 0.51191894, 0.51121865, 0.44312621, 0.44305888,\n",
       "        0.44331476, 0.61679148, 0.61576794, 0.55265858, 0.51140717,\n",
       "        0.5126462 , 0.5124038 , 0.44330129, 0.44322049, 0.44319355,\n",
       "        0.61828638, 0.61835372, 0.55263161, 0.51169001, 0.51209405,\n",
       "        0.51272702, 0.44324742, 0.44316662, 0.44323396]),\n",
       " 'std_train_score': array([0.00341457, 0.00262099, 0.00453658, 0.01103059, 0.01082725,\n",
       "        0.01138755, 0.00454645, 0.00444474, 0.00447664, 0.00215335,\n",
       "        0.0027151 , 0.00269625, 0.01115242, 0.01024082, 0.01023045,\n",
       "        0.00451321, 0.00445198, 0.00462824, 0.00157131, 0.00232717,\n",
       "        0.00513586, 0.01070807, 0.01022233, 0.01016144, 0.00465806,\n",
       "        0.0043265 , 0.00423596, 0.00432468, 0.0039735 , 0.00685191,\n",
       "        0.01066418, 0.01074985, 0.0100907 , 0.00554039, 0.00566866,\n",
       "        0.00578346, 0.00412425, 0.00350068, 0.00728529, 0.01037867,\n",
       "        0.0109041 , 0.01093932, 0.00575336, 0.00575336, 0.00567707,\n",
       "        0.00395558, 0.00423315, 0.00685195, 0.01125123, 0.01111334,\n",
       "        0.01107591, 0.00571313, 0.00561641, 0.00566455])}"
      ]
     },
     "execution_count": 37,
     "metadata": {},
     "output_type": "execute_result"
    }
   ],
   "source": [
    "# Your code here \n",
    "gs_rf.cv_results_"
   ]
  },
  {
   "cell_type": "markdown",
   "metadata": {},
   "source": [
    "### AdaBoost"
   ]
  },
  {
   "cell_type": "code",
   "execution_count": 38,
   "metadata": {},
   "outputs": [
    {
     "name": "stdout",
     "output_type": "stream",
     "text": [
      "Fitting 3 folds for each of 9 candidates, totalling 27 fits\n",
      "[CV] clf__learning_rate=1.0, clf__n_estimators=30 ....................\n"
     ]
    },
    {
     "name": "stderr",
     "output_type": "stream",
     "text": [
      "[Parallel(n_jobs=1)]: Using backend SequentialBackend with 1 concurrent workers.\n"
     ]
    },
    {
     "name": "stdout",
     "output_type": "stream",
     "text": [
      "[CV] ..... clf__learning_rate=1.0, clf__n_estimators=30, total=   6.0s\n",
      "[CV] clf__learning_rate=1.0, clf__n_estimators=30 ....................\n"
     ]
    },
    {
     "name": "stderr",
     "output_type": "stream",
     "text": [
      "[Parallel(n_jobs=1)]: Done   1 out of   1 | elapsed:    6.3s remaining:    0.0s\n"
     ]
    },
    {
     "name": "stdout",
     "output_type": "stream",
     "text": [
      "[CV] ..... clf__learning_rate=1.0, clf__n_estimators=30, total=   6.7s\n",
      "[CV] clf__learning_rate=1.0, clf__n_estimators=30 ....................\n",
      "[CV] ..... clf__learning_rate=1.0, clf__n_estimators=30, total=   7.0s\n",
      "[CV] clf__learning_rate=1.0, clf__n_estimators=50 ....................\n",
      "[CV] ..... clf__learning_rate=1.0, clf__n_estimators=50, total=  10.5s\n",
      "[CV] clf__learning_rate=1.0, clf__n_estimators=50 ....................\n",
      "[CV] ..... clf__learning_rate=1.0, clf__n_estimators=50, total=  10.6s\n",
      "[CV] clf__learning_rate=1.0, clf__n_estimators=50 ....................\n",
      "[CV] ..... clf__learning_rate=1.0, clf__n_estimators=50, total=  10.8s\n",
      "[CV] clf__learning_rate=1.0, clf__n_estimators=70 ....................\n",
      "[CV] ..... clf__learning_rate=1.0, clf__n_estimators=70, total=  14.3s\n",
      "[CV] clf__learning_rate=1.0, clf__n_estimators=70 ....................\n",
      "[CV] ..... clf__learning_rate=1.0, clf__n_estimators=70, total=  14.2s\n",
      "[CV] clf__learning_rate=1.0, clf__n_estimators=70 ....................\n",
      "[CV] ..... clf__learning_rate=1.0, clf__n_estimators=70, total=  14.0s\n",
      "[CV] clf__learning_rate=0.5, clf__n_estimators=30 ....................\n",
      "[CV] ..... clf__learning_rate=0.5, clf__n_estimators=30, total=   6.3s\n",
      "[CV] clf__learning_rate=0.5, clf__n_estimators=30 ....................\n",
      "[CV] ..... clf__learning_rate=0.5, clf__n_estimators=30, total=   6.5s\n",
      "[CV] clf__learning_rate=0.5, clf__n_estimators=30 ....................\n",
      "[CV] ..... clf__learning_rate=0.5, clf__n_estimators=30, total=   6.1s\n",
      "[CV] clf__learning_rate=0.5, clf__n_estimators=50 ....................\n",
      "[CV] ..... clf__learning_rate=0.5, clf__n_estimators=50, total=  10.3s\n",
      "[CV] clf__learning_rate=0.5, clf__n_estimators=50 ....................\n",
      "[CV] ..... clf__learning_rate=0.5, clf__n_estimators=50, total=  10.6s\n",
      "[CV] clf__learning_rate=0.5, clf__n_estimators=50 ....................\n",
      "[CV] ..... clf__learning_rate=0.5, clf__n_estimators=50, total=  10.2s\n",
      "[CV] clf__learning_rate=0.5, clf__n_estimators=70 ....................\n",
      "[CV] ..... clf__learning_rate=0.5, clf__n_estimators=70, total=  15.7s\n",
      "[CV] clf__learning_rate=0.5, clf__n_estimators=70 ....................\n",
      "[CV] ..... clf__learning_rate=0.5, clf__n_estimators=70, total=  14.6s\n",
      "[CV] clf__learning_rate=0.5, clf__n_estimators=70 ....................\n",
      "[CV] ..... clf__learning_rate=0.5, clf__n_estimators=70, total=  14.8s\n",
      "[CV] clf__learning_rate=0.1, clf__n_estimators=30 ....................\n",
      "[CV] ..... clf__learning_rate=0.1, clf__n_estimators=30, total=   5.4s\n",
      "[CV] clf__learning_rate=0.1, clf__n_estimators=30 ....................\n",
      "[CV] ..... clf__learning_rate=0.1, clf__n_estimators=30, total=   5.2s\n",
      "[CV] clf__learning_rate=0.1, clf__n_estimators=30 ....................\n",
      "[CV] ..... clf__learning_rate=0.1, clf__n_estimators=30, total=   5.2s\n",
      "[CV] clf__learning_rate=0.1, clf__n_estimators=50 ....................\n",
      "[CV] ..... clf__learning_rate=0.1, clf__n_estimators=50, total=   8.7s\n",
      "[CV] clf__learning_rate=0.1, clf__n_estimators=50 ....................\n",
      "[CV] ..... clf__learning_rate=0.1, clf__n_estimators=50, total=   8.6s\n",
      "[CV] clf__learning_rate=0.1, clf__n_estimators=50 ....................\n",
      "[CV] ..... clf__learning_rate=0.1, clf__n_estimators=50, total=   8.7s\n",
      "[CV] clf__learning_rate=0.1, clf__n_estimators=70 ....................\n",
      "[CV] ..... clf__learning_rate=0.1, clf__n_estimators=70, total=  12.1s\n",
      "[CV] clf__learning_rate=0.1, clf__n_estimators=70 ....................\n",
      "[CV] ..... clf__learning_rate=0.1, clf__n_estimators=70, total=  14.5s\n",
      "[CV] clf__learning_rate=0.1, clf__n_estimators=70 ....................\n",
      "[CV] ..... clf__learning_rate=0.1, clf__n_estimators=70, total=  12.3s\n"
     ]
    },
    {
     "name": "stderr",
     "output_type": "stream",
     "text": [
      "[Parallel(n_jobs=1)]: Done  27 out of  27 | elapsed:  4.8min finished\n"
     ]
    },
    {
     "ename": "AttributeError",
     "evalue": "'GridSearchCV' object has no attribute 'best_score'",
     "output_type": "error",
     "traceback": [
      "\u001b[1;31m---------------------------------------------------------------------------\u001b[0m",
      "\u001b[1;31mAttributeError\u001b[0m                            Traceback (most recent call last)",
      "\u001b[1;32m<ipython-input-38-27fae2ddecc5>\u001b[0m in \u001b[0;36m<module>\u001b[1;34m\u001b[0m\n\u001b[0;32m     25\u001b[0m \u001b[1;33m\u001b[0m\u001b[0m\n\u001b[0;32m     26\u001b[0m \u001b[1;31m# Best Accuracy\u001b[0m\u001b[1;33m\u001b[0m\u001b[1;33m\u001b[0m\u001b[1;33m\u001b[0m\u001b[0m\n\u001b[1;32m---> 27\u001b[1;33m \u001b[0mprint\u001b[0m\u001b[1;33m(\u001b[0m\u001b[1;34m'Best Accuracy: %.3f'\u001b[0m \u001b[1;33m%\u001b[0m \u001b[0mgs_ab\u001b[0m\u001b[1;33m.\u001b[0m\u001b[0mbest_score\u001b[0m\u001b[1;33m)\u001b[0m\u001b[1;33m\u001b[0m\u001b[1;33m\u001b[0m\u001b[0m\n\u001b[0m\u001b[0;32m     28\u001b[0m \u001b[1;33m\u001b[0m\u001b[0m\n\u001b[0;32m     29\u001b[0m \u001b[1;31m# Best Parameters\u001b[0m\u001b[1;33m\u001b[0m\u001b[1;33m\u001b[0m\u001b[1;33m\u001b[0m\u001b[0m\n",
      "\u001b[1;31mAttributeError\u001b[0m: 'GridSearchCV' object has no attribute 'best_score'"
     ]
    }
   ],
   "source": [
    "# Your code here\n",
    "# ⏰ This cell may take several minutes to run\n",
    "from sklearn.ensemble import AdaBoostClassifier\n",
    "# Construct Pipeline\n",
    "pipe_ab = Pipeline([('pca', PCA(n_components=27)),\n",
    "                     ('clf', AdaBoostClassifier(random_state=42))])\n",
    "\n",
    "# Set Grid Search Parameters\n",
    "\n",
    "adaboost_param_grid= {\n",
    "    'clf__n_estimators' : [30,50,70],\n",
    "    'clf__learning_rate': [1.0,0.5,0.1]\n",
    "}\n",
    "\n",
    "# Construct Grid Search\n",
    "\n",
    "gs_ab = GridSearchCV(estimator = pipe_ab,\n",
    "                    param_grid = adaboost_param_grid,\n",
    "                    scoring = 'accuracy',\n",
    "                    cv=3, verbose=2, return_train_score = True)\n",
    "\n",
    "# Fit Using Grid Search\n",
    "\n",
    "gs_ab.fit(X_train, y_train)\n",
    "\n",
    "# Best Accuracy\n",
    "print('Best Accuracy: %.3f' % gs_ab.best_score)\n",
    "\n",
    "# Best Parameters\n",
    "\n",
    "print('\\nBest parameters: \\n', gs_ab.best_params_)"
   ]
  },
  {
   "cell_type": "code",
   "execution_count": 39,
   "metadata": {},
   "outputs": [
    {
     "name": "stdout",
     "output_type": "stream",
     "text": [
      "Best accuracy: 0.666\n",
      "\n",
      "Best params:\n",
      " {'clf__learning_rate': 0.5, 'clf__n_estimators': 70}\n"
     ]
    }
   ],
   "source": [
    "# Best accuracy\n",
    "print('Best accuracy: %.3f' % gs_ab.best_score_)\n",
    "\n",
    "# Best params\n",
    "print('\\nBest params:\\n', gs_ab.best_params_)"
   ]
  },
  {
   "cell_type": "markdown",
   "metadata": {},
   "source": [
    "Use your grid search object along with `.cv_results` to get the full result overview: "
   ]
  },
  {
   "cell_type": "code",
   "execution_count": 41,
   "metadata": {},
   "outputs": [
    {
     "data": {
      "text/plain": [
       "{'mean_fit_time': array([ 6.38988407, 10.27385108, 13.75290052,  6.0947005 , 10.04015303,\n",
       "        14.62855172,  5.08074824,  8.39805341, 12.50869608]),\n",
       " 'std_fit_time': array([0.42264039, 0.1316512 , 0.12527823, 0.13186263, 0.10370682,\n",
       "        0.49424727, 0.09920443, 0.06760395, 0.97962561]),\n",
       " 'mean_score_time': array([0.20210902, 0.32148385, 0.40857903, 0.1961476 , 0.32815496,\n",
       "        0.41024733, 0.17620476, 0.24832352, 0.43217746]),\n",
       " 'std_score_time': array([0.0040946 , 0.04100572, 0.01676695, 0.0080421 , 0.0403638 ,\n",
       "        0.08458438, 0.02555736, 0.00295189, 0.1162004 ]),\n",
       " 'param_clf__learning_rate': masked_array(data=[1.0, 1.0, 1.0, 0.5, 0.5, 0.5, 0.1, 0.1, 0.1],\n",
       "              mask=[False, False, False, False, False, False, False, False,\n",
       "                    False],\n",
       "        fill_value='?',\n",
       "             dtype=object),\n",
       " 'param_clf__n_estimators': masked_array(data=[30, 50, 70, 30, 50, 70, 30, 50, 70],\n",
       "              mask=[False, False, False, False, False, False, False, False,\n",
       "                    False],\n",
       "        fill_value='?',\n",
       "             dtype=object),\n",
       " 'params': [{'clf__learning_rate': 1.0, 'clf__n_estimators': 30},\n",
       "  {'clf__learning_rate': 1.0, 'clf__n_estimators': 50},\n",
       "  {'clf__learning_rate': 1.0, 'clf__n_estimators': 70},\n",
       "  {'clf__learning_rate': 0.5, 'clf__n_estimators': 30},\n",
       "  {'clf__learning_rate': 0.5, 'clf__n_estimators': 50},\n",
       "  {'clf__learning_rate': 0.5, 'clf__n_estimators': 70},\n",
       "  {'clf__learning_rate': 0.1, 'clf__n_estimators': 30},\n",
       "  {'clf__learning_rate': 0.1, 'clf__n_estimators': 50},\n",
       "  {'clf__learning_rate': 0.1, 'clf__n_estimators': 70}],\n",
       " 'split0_test_score': array([0.61837427, 0.61522301, 0.61174855, 0.64964447, 0.65748222,\n",
       "        0.65837104, 0.57118617, 0.60617324, 0.61764706]),\n",
       " 'split1_test_score': array([0.60767677, 0.59975758, 0.57551515, 0.65745455, 0.67119192,\n",
       "        0.67329293, 0.55684848, 0.608     , 0.62214141]),\n",
       " 'split2_test_score': array([0.62044444, 0.59531313, 0.57793939, 0.65058586, 0.66270707,\n",
       "        0.66618182, 0.53761616, 0.58230303, 0.63070707]),\n",
       " 'mean_test_score': array([0.61549849, 0.60343124, 0.58840103, 0.65256163, 0.66379374,\n",
       "        0.6659486 , 0.55521694, 0.59882542, 0.62349851]),\n",
       " 'std_test_score': array([0.005595  , 0.00853318, 0.01653882, 0.0034811 , 0.00564946,\n",
       "        0.00609407, 0.01375337, 0.01170687, 0.0054174 ]),\n",
       " 'rank_test_score': array([5, 6, 8, 3, 2, 1, 9, 7, 4]),\n",
       " 'split0_train_score': array([0.61874747, 0.62210101, 0.61321212, 0.65426263, 0.66327273,\n",
       "        0.66561616, 0.57543434, 0.61094949, 0.62117172]),\n",
       " 'split1_train_score': array([0.61629833, 0.60219789, 0.58276433, 0.65556947, 0.67027595,\n",
       "        0.66971031, 0.55916933, 0.60955113, 0.62328795]),\n",
       " 'split2_train_score': array([0.62393439, 0.59759202, 0.58106743, 0.65451901, 0.66571048,\n",
       "        0.66805382, 0.53464506, 0.58042099, 0.62781302]),\n",
       " 'mean_train_score': array([0.61966006, 0.60729697, 0.59234796, 0.6547837 , 0.66641972,\n",
       "        0.66779343, 0.55641624, 0.60030721, 0.62409089]),\n",
       " 'std_train_score': array([0.00318349, 0.01063557, 0.01476944, 0.0005654 , 0.0029027 ,\n",
       "        0.00168154, 0.01676556, 0.01407326, 0.00277011])}"
      ]
     },
     "execution_count": 41,
     "metadata": {},
     "output_type": "execute_result"
    }
   ],
   "source": [
    "# Your code here \n",
    "\n",
    "gs_ab.cv_results_"
   ]
  },
  {
   "cell_type": "markdown",
   "metadata": {},
   "source": [
    "### Level-up (Optional): SVM pipeline with grid search \n",
    "\n",
    "As extra level-up work, construct a pipeline with grid search for support vector machines. \n",
    "* Make sure your grid isn't too big. You'll see it takes quite a while to fit SVMs with non-linear kernel functions!"
   ]
  },
  {
   "cell_type": "code",
   "execution_count": 44,
   "metadata": {},
   "outputs": [
    {
     "name": "stdout",
     "output_type": "stream",
     "text": [
      "Fitting 3 folds for each of 7 candidates, totalling 21 fits\n",
      "[CV] clf__C=0.1, clf__kernel=linear ..................................\n"
     ]
    },
    {
     "name": "stderr",
     "output_type": "stream",
     "text": [
      "[Parallel(n_jobs=1)]: Using backend SequentialBackend with 1 concurrent workers.\n"
     ]
    },
    {
     "name": "stdout",
     "output_type": "stream",
     "text": [
      "[CV] ................... clf__C=0.1, clf__kernel=linear, total=  39.1s\n",
      "[CV] clf__C=0.1, clf__kernel=linear ..................................\n"
     ]
    },
    {
     "name": "stderr",
     "output_type": "stream",
     "text": [
      "[Parallel(n_jobs=1)]: Done   1 out of   1 | elapsed:   53.0s remaining:    0.0s\n"
     ]
    },
    {
     "name": "stdout",
     "output_type": "stream",
     "text": [
      "[CV] ................... clf__C=0.1, clf__kernel=linear, total=  30.0s\n",
      "[CV] clf__C=0.1, clf__kernel=linear ..................................\n",
      "[CV] ................... clf__C=0.1, clf__kernel=linear, total=  30.1s\n",
      "[CV] clf__C=1, clf__kernel=linear ....................................\n",
      "[CV] ..................... clf__C=1, clf__kernel=linear, total= 1.6min\n",
      "[CV] clf__C=1, clf__kernel=linear ....................................\n",
      "[CV] ..................... clf__C=1, clf__kernel=linear, total= 1.9min\n",
      "[CV] clf__C=1, clf__kernel=linear ....................................\n",
      "[CV] ..................... clf__C=1, clf__kernel=linear, total= 1.4min\n",
      "[CV] clf__C=10, clf__kernel=linear ...................................\n",
      "[CV] .................... clf__C=10, clf__kernel=linear, total=15.3min\n",
      "[CV] clf__C=10, clf__kernel=linear ...................................\n",
      "[CV] .................... clf__C=10, clf__kernel=linear, total=21.5min\n",
      "[CV] clf__C=10, clf__kernel=linear ...................................\n",
      "[CV] .................... clf__C=10, clf__kernel=linear, total=13.8min\n",
      "[CV] clf__C=1, clf__gamma=0.001, clf__kernel=rbf .....................\n",
      "[CV] ...... clf__C=1, clf__gamma=0.001, clf__kernel=rbf, total=  37.8s\n",
      "[CV] clf__C=1, clf__gamma=0.001, clf__kernel=rbf .....................\n",
      "[CV] ...... clf__C=1, clf__gamma=0.001, clf__kernel=rbf, total=  37.7s\n",
      "[CV] clf__C=1, clf__gamma=0.001, clf__kernel=rbf .....................\n",
      "[CV] ...... clf__C=1, clf__gamma=0.001, clf__kernel=rbf, total=  39.7s\n",
      "[CV] clf__C=1, clf__gamma=0.01, clf__kernel=rbf ......................\n",
      "[CV] ....... clf__C=1, clf__gamma=0.01, clf__kernel=rbf, total= 1.1min\n",
      "[CV] clf__C=1, clf__gamma=0.01, clf__kernel=rbf ......................\n",
      "[CV] ....... clf__C=1, clf__gamma=0.01, clf__kernel=rbf, total=  53.9s\n",
      "[CV] clf__C=1, clf__gamma=0.01, clf__kernel=rbf ......................\n",
      "[CV] ....... clf__C=1, clf__gamma=0.01, clf__kernel=rbf, total=  47.2s\n",
      "[CV] clf__C=10, clf__gamma=0.001, clf__kernel=rbf ....................\n",
      "[CV] ..... clf__C=10, clf__gamma=0.001, clf__kernel=rbf, total=  39.0s\n",
      "[CV] clf__C=10, clf__gamma=0.001, clf__kernel=rbf ....................\n",
      "[CV] ..... clf__C=10, clf__gamma=0.001, clf__kernel=rbf, total=  38.4s\n",
      "[CV] clf__C=10, clf__gamma=0.001, clf__kernel=rbf ....................\n",
      "[CV] ..... clf__C=10, clf__gamma=0.001, clf__kernel=rbf, total=  27.6s\n",
      "[CV] clf__C=10, clf__gamma=0.01, clf__kernel=rbf .....................\n",
      "[CV] ...... clf__C=10, clf__gamma=0.01, clf__kernel=rbf, total=  50.5s\n",
      "[CV] clf__C=10, clf__gamma=0.01, clf__kernel=rbf .....................\n",
      "[CV] ...... clf__C=10, clf__gamma=0.01, clf__kernel=rbf, total=  42.2s\n",
      "[CV] clf__C=10, clf__gamma=0.01, clf__kernel=rbf .....................\n",
      "[CV] ...... clf__C=10, clf__gamma=0.01, clf__kernel=rbf, total=  45.2s\n"
     ]
    },
    {
     "name": "stderr",
     "output_type": "stream",
     "text": [
      "[Parallel(n_jobs=1)]: Done  21 out of  21 | elapsed: 72.0min finished\n"
     ]
    },
    {
     "ename": "AttributeError",
     "evalue": "'GridSearchCV' object has no attribute 'best_score'",
     "output_type": "error",
     "traceback": [
      "\u001b[1;31m---------------------------------------------------------------------------\u001b[0m",
      "\u001b[1;31mAttributeError\u001b[0m                            Traceback (most recent call last)",
      "\u001b[1;32m<ipython-input-44-40801e57c43d>\u001b[0m in \u001b[0;36m<module>\u001b[1;34m\u001b[0m\n\u001b[0;32m     24\u001b[0m \u001b[1;33m\u001b[0m\u001b[0m\n\u001b[0;32m     25\u001b[0m \u001b[1;31m# Best Accuracy\u001b[0m\u001b[1;33m\u001b[0m\u001b[1;33m\u001b[0m\u001b[1;33m\u001b[0m\u001b[0m\n\u001b[1;32m---> 26\u001b[1;33m \u001b[0mprint\u001b[0m\u001b[1;33m(\u001b[0m\u001b[1;34m'Best Accuracy: %.3f'\u001b[0m \u001b[1;33m%\u001b[0m \u001b[0mgs_svm\u001b[0m\u001b[1;33m.\u001b[0m\u001b[0mbest_score\u001b[0m\u001b[1;33m)\u001b[0m\u001b[1;33m\u001b[0m\u001b[1;33m\u001b[0m\u001b[0m\n\u001b[0m\u001b[0;32m     27\u001b[0m \u001b[1;33m\u001b[0m\u001b[0m\n\u001b[0;32m     28\u001b[0m \u001b[1;31m# Best Parameters\u001b[0m\u001b[1;33m\u001b[0m\u001b[1;33m\u001b[0m\u001b[1;33m\u001b[0m\u001b[0m\n",
      "\u001b[1;31mAttributeError\u001b[0m: 'GridSearchCV' object has no attribute 'best_score'"
     ]
    }
   ],
   "source": [
    "# Your code here\n",
    "# ⏰ This cell may take a very long time to run!\n",
    "from sklearn.ensemble import AdaBoostClassifier\n",
    "# Construct Pipeline\n",
    "pipe_svm = Pipeline([('pca', PCA(n_components=27)),\n",
    "                     ('clf', svm.SVC(random_state=42))])\n",
    "\n",
    "# Set Grid Search Parameters\n",
    "\n",
    "param_grid_svm= [\n",
    "    {'clf__C' : [0.1,1,10], 'clf__kernel' : ['linear']},\n",
    "    {'clf__C': [1,10], 'clf__gamma' : [0.001, 0.01], 'clf__kernel' : ['rbf']}\n",
    "]\n",
    "# Construct Grid Search\n",
    "\n",
    "gs_svm = GridSearchCV(estimator = pipe_svm,\n",
    "                    param_grid = param_grid_svm,\n",
    "                    scoring = 'accuracy',\n",
    "                    cv=3, verbose=2, return_train_score = True)\n",
    "\n",
    "# Fit Using Grid Search\n",
    "\n",
    "gs_svm.fit(X_train, y_train)\n",
    "\n",
    "# Best Accuracy\n",
    "print('Best Accuracy: %.3f' % gs_svm.best_score)\n",
    "\n",
    "# Best Parameters\n",
    "\n",
    "print('\\nBest parameters: \\n', gs_svm.best_params_)"
   ]
  },
  {
   "cell_type": "markdown",
   "metadata": {},
   "source": [
    "Use your grid search object along with `.cv_results` to get the full result overview: "
   ]
  },
  {
   "cell_type": "code",
   "execution_count": 45,
   "metadata": {},
   "outputs": [
    {
     "ename": "AttributeError",
     "evalue": "'GridSearchCV' object has no attribute 'cv_results'",
     "output_type": "error",
     "traceback": [
      "\u001b[1;31m---------------------------------------------------------------------------\u001b[0m",
      "\u001b[1;31mAttributeError\u001b[0m                            Traceback (most recent call last)",
      "\u001b[1;32m<ipython-input-45-318920d5fc63>\u001b[0m in \u001b[0;36m<module>\u001b[1;34m\u001b[0m\n\u001b[0;32m      1\u001b[0m \u001b[1;31m# Your code here\u001b[0m\u001b[1;33m\u001b[0m\u001b[1;33m\u001b[0m\u001b[1;33m\u001b[0m\u001b[0m\n\u001b[0;32m      2\u001b[0m \u001b[1;33m\u001b[0m\u001b[0m\n\u001b[1;32m----> 3\u001b[1;33m \u001b[0mgs_svm\u001b[0m\u001b[1;33m.\u001b[0m\u001b[0mcv_results\u001b[0m\u001b[1;33m\u001b[0m\u001b[1;33m\u001b[0m\u001b[0m\n\u001b[0m",
      "\u001b[1;31mAttributeError\u001b[0m: 'GridSearchCV' object has no attribute 'cv_results'"
     ]
    }
   ],
   "source": [
    "# Your code here \n",
    "\n",
    "gs_svm.cv_results"
   ]
  },
  {
   "cell_type": "markdown",
   "metadata": {},
   "source": [
    "## Note\n",
    "\n",
    "Note that this solution is only one of many options. The results in the Random Forest and AdaBoost models show that there is a lot of improvement possible by tuning the hyperparameters further, so make sure to explore this yourself!"
   ]
  },
  {
   "cell_type": "markdown",
   "metadata": {},
   "source": [
    "## Summary \n",
    "\n",
    "Great! You've gotten a lot of practice in using PCA in pipelines. What algorithm would you choose and why?"
   ]
  }
 ],
 "metadata": {
  "kernelspec": {
   "display_name": "Python 3",
   "language": "python",
   "name": "python3"
  },
  "language_info": {
   "codemirror_mode": {
    "name": "ipython",
    "version": 3
   },
   "file_extension": ".py",
   "mimetype": "text/x-python",
   "name": "python",
   "nbconvert_exporter": "python",
   "pygments_lexer": "ipython3",
   "version": "3.7.6"
  },
  "toc": {
   "base_numbering": 1,
   "nav_menu": {},
   "number_sections": true,
   "sideBar": true,
   "skip_h1_title": false,
   "title_cell": "Table of Contents",
   "title_sidebar": "Contents",
   "toc_cell": false,
   "toc_position": {},
   "toc_section_display": true,
   "toc_window_display": false
  }
 },
 "nbformat": 4,
 "nbformat_minor": 2
}
